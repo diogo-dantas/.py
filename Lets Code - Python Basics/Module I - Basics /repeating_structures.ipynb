{
 "cells": [
  {
   "cell_type": "markdown",
   "metadata": {},
   "source": [
    "###  <em>Lesson 7 - Repeating Structures </em>"
   ]
  },
  {
   "cell_type": "markdown",
   "metadata": {},
   "source": [
    "&nbsp;"
   ]
  },
  {
   "cell_type": "code",
   "execution_count": 41,
   "metadata": {},
   "outputs": [
    {
     "name": "stdout",
     "output_type": "stream",
     "text": [
      "1  clean item.\n",
      "2  clean itens.\n",
      "3  clean itens.\n",
      "4  clean itens.\n",
      "5  clean itens.\n",
      "6  clean itens.\n",
      "7  clean itens.\n",
      "8  clean itens.\n",
      "9  clean itens.\n",
      "10  clean itens.\n",
      "End of the while block repetition. The itens are clean!\n"
     ]
    }
   ],
   "source": [
    "counter = 0\n",
    "\n",
    "while counter < 10:\n",
    "    counter = counter + 1\n",
    "    if counter == 1:\n",
    "        print(counter, \" clean item.\")\n",
    "    else:\n",
    "        print(counter, \" clean itens.\")\n",
    "        \n",
    "print(\"End of the while block repetition. The itens are clean!\")\n"
   ]
  },
  {
   "cell_type": "code",
   "execution_count": 48,
   "metadata": {},
   "outputs": [
    {
     "name": "stdout",
     "output_type": "stream",
     "text": [
      "1  clean item.\n",
      "2  clean itens.\n",
      "3  clean itens.\n",
      "4  clean itens.\n",
      "5  clean itens.\n",
      "6  clean itens.\n",
      "7  clean itens.\n",
      "8  clean itens.\n",
      "9  clean itens.\n",
      "10  clean itens.\n",
      "End of the while block repetition. The itens are clean!\n"
     ]
    }
   ],
   "source": [
    "counter = 0\n",
    "\n",
    "while True: #it's not a good practice\n",
    "    if counter < 10:\n",
    "        counter = counter + 1\n",
    "        if counter == 1:\n",
    "            print(counter, \" clean item.\")\n",
    "        else:\n",
    "            print(counter, \" clean itens.\")\n",
    "    else:\n",
    "        break\n",
    "        \n",
    "print(\"End of the while block repetition. The itens are clean!\")       "
   ]
  },
  {
   "cell_type": "code",
   "execution_count": 52,
   "metadata": {},
   "outputs": [
    {
     "name": "stdout",
     "output_type": "stream",
     "text": [
      "Enter your password: Idontknow\n",
      "Invalid password. Try again: LetsCodeAcademy\n",
      "Invalid password. Try again: LetsCode\n",
      "Access allowed. Welcome!\n"
     ]
    }
   ],
   "source": [
    "text = input(\"Enter your password: \")\n",
    "\n",
    "while text != \"LetsCode\":\n",
    "     text = input(\"Invalid password. Try again: \")\n",
    "       \n",
    "\n",
    "print(\"Access allowed. Welcome!\")"
   ]
  },
  {
   "cell_type": "code",
   "execution_count": 53,
   "metadata": {},
   "outputs": [
    {
     "name": "stdout",
     "output_type": "stream",
     "text": [
      "2  clean itens.\n",
      "3  clean itens.\n",
      "4  clean itens.\n",
      "5  clean itens.\n",
      "6  clean itens.\n",
      "7  clean itens.\n",
      "8  clean itens.\n",
      "9  clean itens.\n",
      "10  clean itens.\n",
      "End of the while block repetition. The itens are clean!\n"
     ]
    }
   ],
   "source": [
    "counter = 0\n",
    "\n",
    "while counter < 10:\n",
    "    counter = counter + 1\n",
    "    if counter == 1:\n",
    "        continue\n",
    "    print(counter, \" clean itens.\")\n",
    "        \n",
    "print(\"End of the while block repetition. The itens are clean!\")\n"
   ]
  },
  {
   "cell_type": "code",
   "execution_count": 55,
   "metadata": {},
   "outputs": [
    {
     "name": "stdout",
     "output_type": "stream",
     "text": [
      "Qual horario é agora? 2\n",
      "Você está no horario da madrugada\n",
      "Você está no horario da madrugada\n",
      "Você está no horario da madrugada\n",
      "Você está no horario da madrugada\n",
      "Você está no horario da madrugada\n",
      "Você nao está no horario da madrugada\n",
      "Digite o numero de pipocas: 5\n",
      "O numero de pipocas é:  5\n",
      "O numero de pipocas é:  4\n",
      "O numero de pipocas é:  3\n",
      "O numero de pipocas é:  2\n",
      "O numero de pipocas é:  1\n"
     ]
    }
   ],
   "source": [
    "horario = int(input('Qual horario é agora? '))\n",
    "\n",
    "# Testando a condição uma única vez com o if:\n",
    "if 0 < horario < 6:\n",
    "    print('Você está no horario da madrugada')\n",
    "else:\n",
    "    print('Você nao está no horario da madrugada')\n",
    "\n",
    "# Testando a condição em loop com o while:\n",
    "while 0 < horario < 6:\n",
    "    print('Você está no horario da madrugada')\n",
    "    horario = horario + 1\n",
    "else:\n",
    "    print('Você nao está no horario da madrugada')\n",
    "\n",
    "# O while permite continuar decrementando o número de pipocas até chegar em 0:\n",
    "num_pipocas = int(input('Digite o numero de pipocas: '))\n",
    "\n",
    "while num_pipocas > 0:\n",
    "    print('O numero de pipocas é: ', num_pipocas)\n",
    "    num_pipocas = num_pipocas - 1"
   ]
  },
  {
   "cell_type": "code",
   "execution_count": 56,
   "metadata": {},
   "outputs": [
    {
     "name": "stdout",
     "output_type": "stream",
     "text": [
      "Digite seu salario: 555\n",
      "Entre com um salario MAIOR DO QUE 998.0: 999\n",
      "O salario que você entrou foi:  999.0\n"
     ]
    }
   ],
   "source": [
    "# o exemplo abaixo não aceita um salário menor do que o mínimo atual:\n",
    "salario = float(input('Digite seu salario: '))\n",
    "while salario < 998.0:\n",
    "    salario = float(input('Entre com um salario MAIOR DO QUE 998.0: '))\n",
    "else:\n",
    "    print('O salario que você entrou foi: ', salario)"
   ]
  },
  {
   "cell_type": "code",
   "execution_count": 57,
   "metadata": {},
   "outputs": [
    {
     "name": "stdout",
     "output_type": "stream",
     "text": [
      "Digite OK: No\n",
      "Não foi isso que eu pedi, digite OK: OK\n"
     ]
    }
   ],
   "source": [
    "# o exemplo abaixo só sai do loop quando o usuário digitar \"OK\":\n",
    "resposta = input('Digite OK: ')\n",
    "while resposta != 'OK':\n",
    "    resposta = input('Não foi isso que eu pedi, digite OK: ')"
   ]
  },
  {
   "cell_type": "code",
   "execution_count": 58,
   "metadata": {},
   "outputs": [
    {
     "name": "stdout",
     "output_type": "stream",
     "text": [
      "Digite um numero: 3\n",
      "0\n",
      "1\n",
      "2\n"
     ]
    }
   ],
   "source": [
    "# Declaramos um contador como 0:\n",
    "contador = 0\n",
    "# Definimos o número de repetições:\n",
    "numero = int(input('Digite um numero: '))\n",
    "# Rodamos o while até o contador se igualar ao número de repetições:\n",
    "while contador < numero:\n",
    "    print(contador)\n",
    "    contador = contador + 1"
   ]
  },
  {
   "cell_type": "code",
   "execution_count": 59,
   "metadata": {},
   "outputs": [
    {
     "name": "stdout",
     "output_type": "stream",
     "text": [
      "Digite OK: ok\n",
      "Digite OK: OK\n"
     ]
    }
   ],
   "source": [
    "while True:\n",
    "    resposta = input('Digite OK: ')\n",
    "    if resposta == 'OK':\n",
    "        break"
   ]
  }
 ],
 "metadata": {
  "kernelspec": {
   "display_name": "Python 3",
   "language": "python",
   "name": "python3"
  },
  "language_info": {
   "codemirror_mode": {
    "name": "ipython",
    "version": 3
   },
   "file_extension": ".py",
   "mimetype": "text/x-python",
   "name": "python",
   "nbconvert_exporter": "python",
   "pygments_lexer": "ipython3",
   "version": "3.7.4"
  }
 },
 "nbformat": 4,
 "nbformat_minor": 2
}
