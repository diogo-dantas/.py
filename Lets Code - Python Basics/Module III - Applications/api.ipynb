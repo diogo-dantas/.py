{
 "cells": [
  {
   "cell_type": "markdown",
   "metadata": {},
   "source": [
    "### <em> API's </em>"
   ]
  },
  {
   "cell_type": "markdown",
   "metadata": {},
   "source": [
    "&nbsp;"
   ]
  },
  {
   "cell_type": "code",
   "execution_count": 75,
   "metadata": {
    "ExecuteTime": {
     "end_time": "2021-07-15T16:47:13.028150Z",
     "start_time": "2021-07-15T16:47:05.648843Z"
    }
   },
   "outputs": [
    {
     "name": "stdout",
     "output_type": "stream",
     "text": [
      "Requirement already satisfied: requests in /home/tiodiovo/anaconda3/lib/python3.7/site-packages (2.24.0)\n",
      "Requirement already satisfied: idna<3,>=2.5 in /home/tiodiovo/anaconda3/lib/python3.7/site-packages (from requests) (2.8)\n",
      "Requirement already satisfied: urllib3!=1.25.0,!=1.25.1,<1.26,>=1.21.1 in /home/tiodiovo/anaconda3/lib/python3.7/site-packages (from requests) (1.24.2)\n",
      "Requirement already satisfied: chardet<4,>=3.0.2 in /home/tiodiovo/anaconda3/lib/python3.7/site-packages (from requests) (3.0.4)\n",
      "Requirement already satisfied: certifi>=2017.4.17 in /home/tiodiovo/anaconda3/lib/python3.7/site-packages (from requests) (2019.9.11)\n"
     ]
    }
   ],
   "source": [
    "!pip install requests"
   ]
  },
  {
   "cell_type": "code",
   "execution_count": 76,
   "metadata": {
    "ExecuteTime": {
     "end_time": "2021-07-15T16:49:09.930482Z",
     "start_time": "2021-07-15T16:49:09.481947Z"
    }
   },
   "outputs": [],
   "source": [
    "import requests"
   ]
  },
  {
   "cell_type": "code",
   "execution_count": 77,
   "metadata": {
    "ExecuteTime": {
     "end_time": "2021-07-15T16:51:51.589099Z",
     "start_time": "2021-07-15T16:51:51.577341Z"
    }
   },
   "outputs": [],
   "source": [
    "url = 'https://api.exchangerate-api.com/v6/latest'"
   ]
  },
  {
   "cell_type": "code",
   "execution_count": 80,
   "metadata": {
    "ExecuteTime": {
     "end_time": "2021-07-15T16:53:49.856615Z",
     "start_time": "2021-07-15T16:53:49.024037Z"
    }
   },
   "outputs": [
    {
     "name": "stdout",
     "output_type": "stream",
     "text": [
      "200\n"
     ]
    }
   ],
   "source": [
    "req = requests.get(url)\n",
    "\n",
    "print(req.status_code) # 200 - status ok"
   ]
  },
  {
   "cell_type": "code",
   "execution_count": 81,
   "metadata": {
    "ExecuteTime": {
     "end_time": "2021-07-15T16:55:26.607545Z",
     "start_time": "2021-07-15T16:55:26.586538Z"
    }
   },
   "outputs": [
    {
     "name": "stdout",
     "output_type": "stream",
     "text": [
      "{'result': 'success', 'provider': 'https://www.exchangerate-api.com', 'documentation': 'https://www.exchangerate-api.com/docs/free', 'WARNING_NEW_ENDPOINT': 'Swap *api.exchangerate-api.com* with *open.er-api.com* for better servers!', 'terms_of_use': 'https://www.exchangerate-api.com/terms', 'time_last_update_unix': 1626307352, 'time_last_update_utc': 'Thu, 15 Jul 2021 00:02:32 +0000', 'time_next_update_unix': 1626395262, 'time_next_update_utc': 'Fri, 16 Jul 2021 00:27:42 +0000', 'time_eol_unix': 0, 'base_code': 'USD', 'rates': {'USD': 1, 'AED': 3.67, 'AFN': 80.12, 'ALL': 103.5, 'AMD': 495.66, 'ANG': 1.79, 'AOA': 647.66, 'ARS': 95.97, 'AUD': 1.34, 'AWG': 1.79, 'AZN': 1.69, 'BAM': 1.65, 'BBD': 2, 'BDT': 84.6, 'BGN': 1.65, 'BHD': 0.376, 'BIF': 1971.27, 'BMD': 1, 'BND': 1.35, 'BOB': 6.87, 'BRL': 5.14, 'BSD': 1, 'BTN': 74.52, 'BWP': 11.04, 'BYN': 2.56, 'BZD': 2, 'CAD': 1.25, 'CDF': 1978.53, 'CHF': 0.916, 'CLP': 748.38, 'CNY': 6.46, 'COP': 3791.84, 'CRC': 617.79, 'CUC': 1, 'CUP': 25.75, 'CVE': 93.05, 'CZK': 21.73, 'DJF': 177.72, 'DKK': 6.3, 'DOP': 56.9, 'DZD': 134.43, 'EGP': 15.66, 'ERN': 15, 'ETB': 43.84, 'EUR': 0.844, 'FJD': 2.08, 'FKP': 0.721, 'FOK': 6.3, 'GBP': 0.721, 'GEL': 3.13, 'GGP': 0.721, 'GHS': 5.89, 'GIP': 0.721, 'GMD': 51.8, 'GNF': 9773.06, 'GTQ': 7.73, 'GYD': 208.38, 'HKD': 7.77, 'HNL': 23.82, 'HRK': 6.36, 'HTG': 93.6, 'HUF': 304.1, 'IDR': 14540.86, 'ILS': 3.28, 'IMP': 0.721, 'INR': 74.52, 'IQD': 1453.15, 'IRR': 41826.42, 'ISK': 124.04, 'JMD': 152.8, 'JOD': 0.709, 'JPY': 110.18, 'KES': 107.83, 'KGS': 84.39, 'KHR': 4054.24, 'KID': 1.34, 'KMF': 415.16, 'KRW': 1147.33, 'KWD': 0.3, 'KYD': 0.833, 'KZT': 426.04, 'LAK': 9477.51, 'LBP': 1507.5, 'LKR': 198.72, 'LRD': 171.15, 'LSL': 14.57, 'LYD': 4.49, 'MAD': 8.94, 'MDL': 17.99, 'MGA': 3765.33, 'MKD': 52.03, 'MMK': 1642.28, 'MNT': 2838.26, 'MOP': 8, 'MRU': 35.99, 'MUR': 42.78, 'MVR': 15.37, 'MWK': 807.25, 'MXN': 19.93, 'MYR': 4.2, 'MZN': 63.66, 'NAD': 14.57, 'NGN': 422.37, 'NIO': 35, 'NOK': 8.74, 'NPR': 119.23, 'NZD': 1.42, 'OMR': 0.384, 'PAB': 1, 'PEN': 3.96, 'PGK': 3.5, 'PHP': 50.24, 'PKR': 159.09, 'PLN': 3.87, 'PYG': 6793.12, 'QAR': 3.64, 'RON': 4.17, 'RSD': 99.39, 'RUB': 74.11, 'RWF': 1004.52, 'SAR': 3.75, 'SBD': 7.95, 'SCR': 14.39, 'SDG': 440.9, 'SEK': 8.63, 'SGD': 1.35, 'SHP': 0.721, 'SLL': 10210.27, 'SOS': 576.25, 'SRD': 21.13, 'SSP': 177.42, 'STN': 20.68, 'SYP': 1594.23, 'SZL': 14.57, 'THB': 32.66, 'TJS': 11.33, 'TMT': 3.49, 'TND': 2.78, 'TOP': 2.24, 'TRY': 8.6, 'TTD': 6.77, 'TVD': 1.34, 'TWD': 27.98, 'TZS': 2313.89, 'UAH': 27.26, 'UGX': 3533.14, 'UYU': 43.83, 'UZS': 10571.63, 'VES': 3353747.75, 'VND': 22963.08, 'VUV': 110.57, 'WST': 2.56, 'XAF': 553.55, 'XCD': 2.7, 'XDR': 0.704, 'XOF': 553.55, 'XPF': 100.7, 'YER': 250.21, 'ZAR': 14.57, 'ZMW': 22.62}}\n"
     ]
    }
   ],
   "source": [
    "data = req.json()\n",
    "\n",
    "print(data)"
   ]
  },
  {
   "cell_type": "code",
   "execution_count": 84,
   "metadata": {
    "ExecuteTime": {
     "end_time": "2021-07-15T18:13:38.337747Z",
     "start_time": "2021-07-15T18:13:35.545657Z"
    }
   },
   "outputs": [
    {
     "name": "stdout",
     "output_type": "stream",
     "text": [
      "Enter the amount in R$ to be converted: 2500\n",
      "The value in R$ 2500.00 corresponds to U$$ 486.38\n"
     ]
    }
   ],
   "source": [
    "reais_values = float(input('Enter the amount in R$ to be converted: '))\n",
    "price = data['rates']['BRL']\n",
    "\n",
    "print(f'The value in R$ {reais_values:.2f} corresponds to U$$ {reais_values / price:.2f}')"
   ]
  }
 ],
 "metadata": {
  "kernelspec": {
   "display_name": "Python 3",
   "language": "python",
   "name": "python3"
  },
  "language_info": {
   "codemirror_mode": {
    "name": "ipython",
    "version": 3
   },
   "file_extension": ".py",
   "mimetype": "text/x-python",
   "name": "python",
   "nbconvert_exporter": "python",
   "pygments_lexer": "ipython3",
   "version": "3.7.4"
  },
  "toc": {
   "base_numbering": 1,
   "nav_menu": {},
   "number_sections": true,
   "sideBar": true,
   "skip_h1_title": false,
   "title_cell": "Table of Contents",
   "title_sidebar": "Contents",
   "toc_cell": false,
   "toc_position": {},
   "toc_section_display": true,
   "toc_window_display": false
  },
  "varInspector": {
   "cols": {
    "lenName": 16,
    "lenType": 16,
    "lenVar": 40
   },
   "kernels_config": {
    "python": {
     "delete_cmd_postfix": "",
     "delete_cmd_prefix": "del ",
     "library": "var_list.py",
     "varRefreshCmd": "print(var_dic_list())"
    },
    "r": {
     "delete_cmd_postfix": ") ",
     "delete_cmd_prefix": "rm(",
     "library": "var_list.r",
     "varRefreshCmd": "cat(var_dic_list()) "
    }
   },
   "types_to_exclude": [
    "module",
    "function",
    "builtin_function_or_method",
    "instance",
    "_Feature"
   ],
   "window_display": false
  }
 },
 "nbformat": 4,
 "nbformat_minor": 2
}
