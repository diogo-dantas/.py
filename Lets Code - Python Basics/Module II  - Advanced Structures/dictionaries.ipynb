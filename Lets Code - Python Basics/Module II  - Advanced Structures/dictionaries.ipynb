{
 "cells": [
  {
   "cell_type": "markdown",
   "metadata": {},
   "source": [
    "###  <em>Lesson 4 - Dictionaries </em>"
   ]
  },
  {
   "cell_type": "markdown",
   "metadata": {},
   "source": [
    "&nbsp;"
   ]
  },
  {
   "cell_type": "code",
   "execution_count": 87,
   "metadata": {},
   "outputs": [],
   "source": [
    "city_data = {\n",
    "    'name':'São Paulo',\n",
    "    'state':'São Paulo',\n",
    "    'area_km2': 1521,\n",
    "    'population_milions': 12.18,\n",
    "}"
   ]
  },
  {
   "cell_type": "code",
   "execution_count": 88,
   "metadata": {},
   "outputs": [
    {
     "name": "stdout",
     "output_type": "stream",
     "text": [
      "{'name': 'São Paulo', 'state': 'São Paulo', 'area_km2': 1521, 'population_milions': 12.18} <class 'dict'>\n"
     ]
    }
   ],
   "source": [
    "print(city_data,type(city_data))"
   ]
  },
  {
   "cell_type": "code",
   "execution_count": 89,
   "metadata": {},
   "outputs": [],
   "source": [
    "city_data['country'] = 'Brazil'"
   ]
  },
  {
   "cell_type": "code",
   "execution_count": 90,
   "metadata": {},
   "outputs": [
    {
     "name": "stdout",
     "output_type": "stream",
     "text": [
      "{'name': 'São Paulo', 'state': 'São Paulo', 'area_km2': 1521, 'population_milions': 12.18, 'country': 'Brazil'}\n"
     ]
    }
   ],
   "source": [
    "print(city_data)"
   ]
  },
  {
   "cell_type": "code",
   "execution_count": 91,
   "metadata": {},
   "outputs": [
    {
     "name": "stdout",
     "output_type": "stream",
     "text": [
      "São Paulo\n"
     ]
    }
   ],
   "source": [
    "print(city_data['name'])"
   ]
  },
  {
   "cell_type": "code",
   "execution_count": 92,
   "metadata": {},
   "outputs": [
    {
     "name": "stdout",
     "output_type": "stream",
     "text": [
      "{'name': 'São Paulo', 'state': 'São Paulo', 'area_km2': 1500, 'population_milions': 12.18, 'country': 'Brazil'}\n"
     ]
    }
   ],
   "source": [
    "city_data['area_km2'] = 1500\n",
    "print(city_data)"
   ]
  },
  {
   "cell_type": "code",
   "execution_count": 93,
   "metadata": {},
   "outputs": [],
   "source": [
    "city_data_2 = city_data"
   ]
  },
  {
   "cell_type": "code",
   "execution_count": 94,
   "metadata": {},
   "outputs": [
    {
     "name": "stdout",
     "output_type": "stream",
     "text": [
      "{'name': 'Santos', 'state': 'São Paulo', 'area_km2': 1500, 'population_milions': 12.18, 'country': 'Brazil'}\n"
     ]
    }
   ],
   "source": [
    "city_data_2['name'] = 'Santos'\n",
    "print(city_data_2)"
   ]
  },
  {
   "cell_type": "code",
   "execution_count": 95,
   "metadata": {},
   "outputs": [
    {
     "name": "stdout",
     "output_type": "stream",
     "text": [
      "{'name': 'Santos', 'state': 'São Paulo', 'area_km2': 1500, 'population_milions': 12.18, 'country': 'Brazil'}\n"
     ]
    }
   ],
   "source": [
    "print(city_data)"
   ]
  },
  {
   "cell_type": "code",
   "execution_count": 98,
   "metadata": {},
   "outputs": [],
   "source": [
    "city_data_3 = city_data.copy() #doesn't change the copied dictionary"
   ]
  },
  {
   "cell_type": "code",
   "execution_count": 99,
   "metadata": {},
   "outputs": [
    {
     "name": "stdout",
     "output_type": "stream",
     "text": [
      "{'name': 'Santos', 'state': 'Rio de Janeiro', 'area_km2': 1500, 'population_milions': 12.18, 'country': 'Brazil'}\n",
      "{'name': 'Santos', 'state': 'São Paulo', 'area_km2': 1500, 'population_milions': 12.18, 'country': 'Brazil'}\n"
     ]
    }
   ],
   "source": [
    "city_data_3['state'] = 'Rio de Janeiro'\n",
    "print(city_data_3)\n",
    "print(city_data)"
   ]
  },
  {
   "cell_type": "code",
   "execution_count": 101,
   "metadata": {},
   "outputs": [],
   "source": [
    "new_data = {\n",
    "    'population_milions': 15,\n",
    "    'foundation': '25/01/1554',    \n",
    "}"
   ]
  },
  {
   "cell_type": "code",
   "execution_count": 102,
   "metadata": {},
   "outputs": [],
   "source": [
    "city_data.update(new_data)"
   ]
  },
  {
   "cell_type": "code",
   "execution_count": 103,
   "metadata": {},
   "outputs": [
    {
     "name": "stdout",
     "output_type": "stream",
     "text": [
      "{'name': 'Santos', 'state': 'São Paulo', 'area_km2': 1500, 'population_milions': 15, 'country': 'Brazil', 'foundation': '25/01/1554'}\n"
     ]
    }
   ],
   "source": [
    "print(city_data)"
   ]
  },
  {
   "cell_type": "code",
   "execution_count": 104,
   "metadata": {},
   "outputs": [
    {
     "name": "stdout",
     "output_type": "stream",
     "text": [
      "{'name': 'São Paulo', 'state': 'São Paulo', 'area_km2': 1500, 'population_milions': 15, 'country': 'Brazil', 'foundation': '25/01/1554'}\n"
     ]
    }
   ],
   "source": [
    "city_data['name'] = 'São Paulo'\n",
    "print(city_data)"
   ]
  },
  {
   "cell_type": "code",
   "execution_count": 106,
   "metadata": {},
   "outputs": [
    {
     "name": "stdout",
     "output_type": "stream",
     "text": [
      "None\n"
     ]
    }
   ],
   "source": [
    "print(city_data.get('Mayor')) #does not return error if key is not found in dictionary"
   ]
  },
  {
   "cell_type": "code",
   "execution_count": 109,
   "metadata": {},
   "outputs": [
    {
     "name": "stdout",
     "output_type": "stream",
     "text": [
      "dict_keys(['name', 'state', 'area_km2', 'population_milions', 'country', 'foundation'])\n",
      "-----------------\n",
      "dict_values(['São Paulo', 'São Paulo', 1500, 15, 'Brazil', '25/01/1554'])\n",
      "-----------------\n",
      "dict_items([('name', 'São Paulo'), ('state', 'São Paulo'), ('area_km2', 1500), ('population_milions', 15), ('country', 'Brazil'), ('foundation', '25/01/1554')])\n"
     ]
    }
   ],
   "source": [
    "print(city_data.keys()) #returns a list of keys\n",
    "print('-----------------')\n",
    "print(city_data.values()) #returns a list of values\n",
    "print('-----------------')\n",
    "print(city_data.items()) #returns a list of tuples (key and value)"
   ]
  },
  {
   "cell_type": "code",
   "execution_count": 110,
   "metadata": {},
   "outputs": [
    {
     "name": "stdout",
     "output_type": "stream",
     "text": [
      "{'cat': 'gato', 'dog': 'cachorro', 'mouse': 'rato'}\n",
      "<class 'dict'>\n",
      "{'cat': 'gato', 'dog': 'cão', 'mouse': 'rato'}\n",
      "{'Curso': 'Python Pro', 'Linguagem': 'Python', 'Módulo': 2}\n",
      "cat existe!\n",
      "dict_keys(['cat', 'dog', 'mouse'])\n",
      "dict_values(['gato', 'cão', 'rato'])\n",
      "dict_items([('cat', 'gato'), ('dog', 'cão'), ('mouse', 'rato')])\n"
     ]
    }
   ],
   "source": [
    "# O dicionário é definido pelos símbolos { e }\n",
    "\n",
    "dicionario = {}\n",
    "\n",
    "# O dicionário não possui um \"append\".\n",
    "# Adicionamos valores diretamente:\n",
    "\n",
    "dicionario['cat'] = 'gato'\n",
    "dicionario['dog'] = 'cachorro'\n",
    "dicionario['mouse'] = 'rato'\n",
    "\n",
    "print(dicionario)\n",
    "print(type(dicionario))\n",
    "\n",
    "'''\n",
    "Saída:\n",
    "{'cat': 'gato', 'dog': 'cachorro', 'mouse': 'rato'}\n",
    "<class 'dict'>\n",
    "'''\n",
    "\n",
    "# Dicionários, assim como as listas, são mutáveis:\n",
    "dicionario['dog'] = 'cão'\n",
    "print(dicionario)\n",
    "# Saída: {'cat': 'gato', 'dog': 'cão', 'mouse': 'rato'}\n",
    "\n",
    "# Podemos criar o dicionário diretamente também:\n",
    "dicionario2 = {'Curso': 'Python Pro', 'Linguagem':'Python', 'Módulo':2}\n",
    "print(dicionario2)\n",
    "# Saída: {'Curso': 'Python Pro', 'Linguagem': 'Python', 'Módulo': 2}\n",
    "\n",
    "# Podemos utilizar o operador \"in\" para verificar se uma chave existe:\n",
    "if 'cat' in dicionario:\n",
    "    print('cat existe!') # Sim\n",
    "if 'bird' in dicionario:\n",
    "    print('bird existe!') # Não\n",
    "if 'gato' in dicionario:\n",
    "    print('gato existe!') # Não\n",
    "\n",
    "'''\n",
    "Também podemos utilizar as funções .keys() e .values() para obter listas\n",
    "com apenas as chaves ou apenas os valores do dicionário.\n",
    "'''\n",
    "chaves = dicionario.keys()\n",
    "print(chaves)\n",
    "# Saída: dict_keys(['cat', 'dog', 'mouse'])\n",
    "\n",
    "valores = dicionario.values()\n",
    "print(valores)\n",
    "# Saída:dict_values(['gato', 'cão', 'rato'])\n",
    "\n",
    "# Já a função .items(), retorna uma lista de tuplas (chave, valor) de um dicionário\n",
    "\n",
    "itens = dicionario.items()\n",
    "print(itens)\n",
    "# Saída:dict_items([('cat', 'gato'), ('dog', 'cão'), ('mouse', 'rato')])"
   ]
  }
 ],
 "metadata": {
  "kernelspec": {
   "display_name": "Python 3",
   "language": "python",
   "name": "python3"
  },
  "language_info": {
   "codemirror_mode": {
    "name": "ipython",
    "version": 3
   },
   "file_extension": ".py",
   "mimetype": "text/x-python",
   "name": "python",
   "nbconvert_exporter": "python",
   "pygments_lexer": "ipython3",
   "version": "3.7.4"
  }
 },
 "nbformat": 4,
 "nbformat_minor": 2
}
