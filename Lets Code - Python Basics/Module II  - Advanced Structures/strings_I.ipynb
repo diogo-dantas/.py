{
 "cells": [
  {
   "cell_type": "markdown",
   "metadata": {},
   "source": [
    "###  <em>Lesson 2 - Strings I </em>"
   ]
  },
  {
   "cell_type": "markdown",
   "metadata": {},
   "source": [
    "&nbsp;"
   ]
  },
  {
   "cell_type": "code",
   "execution_count": 26,
   "metadata": {},
   "outputs": [
    {
     "name": "stdout",
     "output_type": "stream",
     "text": [
      "Let's Code\n"
     ]
    }
   ],
   "source": [
    "company = \"Let's Code\"\n",
    "print(company)"
   ]
  },
  {
   "cell_type": "code",
   "execution_count": 28,
   "metadata": {},
   "outputs": [
    {
     "name": "stdout",
     "output_type": "stream",
     "text": [
      "Professor Pietro of Let's Code said: \"Today the pizza is on me\".\n"
     ]
    }
   ],
   "source": [
    "phrase = \"Professor Pietro of Let's Code said: \\\"Today the pizza is on me\\\".\"\n",
    "print(phrase)"
   ]
  },
  {
   "cell_type": "code",
   "execution_count": 29,
   "metadata": {},
   "outputs": [
    {
     "name": "stdout",
     "output_type": "stream",
     "text": [
      "L\n"
     ]
    }
   ],
   "source": [
    "print(company[0])"
   ]
  },
  {
   "cell_type": "code",
   "execution_count": 30,
   "metadata": {},
   "outputs": [
    {
     "name": "stdout",
     "output_type": "stream",
     "text": [
      "Let\n"
     ]
    }
   ],
   "source": [
    "print(company[:3])"
   ]
  },
  {
   "cell_type": "code",
   "execution_count": 48,
   "metadata": {},
   "outputs": [],
   "source": [
    "city_names = \"Salvador, Santo André, Porto Seguro, Cândido Mota, Ribeirão das Neves\""
   ]
  },
  {
   "cell_type": "code",
   "execution_count": 49,
   "metadata": {},
   "outputs": [
    {
     "data": {
      "text/plain": [
       "str"
      ]
     },
     "execution_count": 49,
     "metadata": {},
     "output_type": "execute_result"
    }
   ],
   "source": [
    "type(city_names)"
   ]
  },
  {
   "cell_type": "code",
   "execution_count": 50,
   "metadata": {},
   "outputs": [
    {
     "name": "stdout",
     "output_type": "stream",
     "text": [
      "['Salvador', 'Santo André', 'Porto Seguro', 'Cândido Mota', 'Ribeirão das Neves'] <class 'list'>\n"
     ]
    }
   ],
   "source": [
    "city_names = city_names.split(', ')\n",
    "print(city_names, type(city_names))"
   ]
  },
  {
   "cell_type": "code",
   "execution_count": 52,
   "metadata": {},
   "outputs": [
    {
     "name": "stdout",
     "output_type": "stream",
     "text": [
      "MAIN MENU <class 'str'>\n"
     ]
    }
   ],
   "source": [
    "header = '                     MAIN MENU                      '\n",
    "header = header.strip()\n",
    "print(header, type(header))"
   ]
  },
  {
   "cell_type": "code",
   "execution_count": 53,
   "metadata": {},
   "outputs": [
    {
     "name": "stdout",
     "output_type": "stream",
     "text": [
      "Rio De Janeiro\n",
      "Rio de janeiro\n",
      "rio de janeiro\n",
      "RIO DE JANEIRO\n"
     ]
    }
   ],
   "source": [
    "city_name = 'RiO De JaNeiRo'\n",
    "print(city_name.title())\n",
    "print(city_name.capitalize())\n",
    "print(city_name.lower())\n",
    "print(city_name.upper())"
   ]
  },
  {
   "cell_type": "code",
   "execution_count": 60,
   "metadata": {},
   "outputs": [
    {
     "name": "stdout",
     "output_type": "stream",
     "text": [
      "Which city in Brazil is known as the \"wonderful city\"?Santo André\n",
      "Come on, try again ...\n",
      "Which city in Brazil is known as the \"wonderful city\"?Santos\n",
      "Come on, try again ...\n",
      "Which city in Brazil is known as the \"wonderful city\"?RiO de JaNeirO\n",
      "That's right! Rio de Janeiro is the wonderful city.\n"
     ]
    }
   ],
   "source": [
    "city_name = input(\"Which city in Brazil is known as the \\\"wonderful city\\\"?\")\n",
    "city_name = city_name.strip()\n",
    "\n",
    "while city_name.lower() != 'rio de janeiro':\n",
    "    print(\"Come on, try again ...\")\n",
    "    city_name = input(\"Which city in Brazil is known as the \\\"wonderful city\\\"?\")\n",
    "\n",
    "print(\"That's right! Rio de Janeiro is the wonderful city.\")\n",
    "    "
   ]
  },
  {
   "cell_type": "code",
   "execution_count": 64,
   "metadata": {},
   "outputs": [
    {
     "name": "stdout",
     "output_type": "stream",
     "text": [
      "True\n"
     ]
    }
   ],
   "source": [
    "message = \"Do you know what Pietro said in the room today?\"\n",
    "talked_about_Pietro = \"Pietro\" in message\n",
    "print(talked_about_Pietro)"
   ]
  },
  {
   "cell_type": "code",
   "execution_count": 63,
   "metadata": {},
   "outputs": [
    {
     "name": "stdout",
     "output_type": "stream",
     "text": [
      "False\n"
     ]
    }
   ],
   "source": [
    "talked_about_Jairo = \"Jairo\" in message\n",
    "print(talked_about_Jairo)"
   ]
  },
  {
   "cell_type": "code",
   "execution_count": 65,
   "metadata": {},
   "outputs": [
    {
     "name": "stdout",
     "output_type": "stream",
     "text": [
      "u\n",
      "m\n",
      "a\n",
      "A frase possui 9 caracteres\n",
      "['u', 'm', 'a', ' ', 'F', 'R', 'A', 'S', 'E']\n",
      "u-pym-pya-py -pyF-pyR-pyA-pyS-pyE\n",
      "uma FRASE\n",
      "Uma frase\n",
      "Uma Frase\n",
      "UMA FRASE\n",
      "uma frase\n",
      "uma CRASE\n",
      "String original: uma FRASE\n",
      "['uma', 'FRASE']\n",
      "['UM', ' FR', 'SE']\n",
      "uma\n",
      "FRASE\n",
      "uma\n",
      "\tFRASE\n"
     ]
    }
   ],
   "source": [
    "# Suponhamos que temos a seguinte string:\n",
    "\n",
    "frase = 'uma FRASE'\n",
    "\n",
    "# Podemos acessar individualmente cada caractere em uma frase.\n",
    "# A ideia é a mesma de acessar uma lista:\n",
    "print(frase[0])\n",
    "print(frase[1])\n",
    "print(frase[2])\n",
    "\n",
    "tamanho = len(frase)\n",
    "print(\"A frase possui\", tamanho, \"caracteres\")\n",
    "\n",
    "# Porém, strings são imutáveis: não podemos alterar caracteres individuais\n",
    "# A linha abaixo, se for descomentada, dará erro no programa:\n",
    "# frase[4] = 'C'\n",
    "\n",
    "# Podemos converter strings para listas:\n",
    "listafrase = list(frase)\n",
    "print(listafrase)\n",
    "\n",
    "# A função join() intercala cada elemento de uma lista com uma string.\n",
    "stringfinal = '-py'.join(listafrase)\n",
    "print(stringfinal)\n",
    "\n",
    "# Usar um join() com uma string vazia é útil para transformar a lista de volta\n",
    "# em string:\n",
    "stringfinal = ''.join(listafrase)\n",
    "print(stringfinal)\n",
    "\n",
    "# Existem algumas funções interessantes que retornam a string \"tratada\":\n",
    "s1 = frase.capitalize() # 1a letra maiúscula, restante minúscula\n",
    "s2 = frase.title() # todo início de palavra em maiúscula, resto minúscula\n",
    "s3 = frase.upper() # string inteira em maiúscula\n",
    "s4 = frase.lower() # string inteira em minúscula\n",
    "s5 = frase.replace('F', 'C') # substitui a primeira substring pela segunda\n",
    "\n",
    "print(s1)\n",
    "print(s2)\n",
    "print(s3)\n",
    "print(s4)\n",
    "print(s5)\n",
    "# Note que NENHUMA delas ALTERA a string original, elas sempre retornam\n",
    "# a string nova.\n",
    "print('String original:', frase)\n",
    "\n",
    "# Outra possibilidade com strings é quebrar a string em uma lista de substrings\n",
    "# Sempre que o caractere especificado é encontrado, a string é quebrada\n",
    "quebra1 = frase.split(' ') # quebra a frase no caractere espaço em branco\n",
    "quebra2 = s3.split('A') # quebra a frase em maiúsculas no caractere 'A'\n",
    "\n",
    "print(quebra1)\n",
    "print(quebra2)\n",
    "\n",
    "# Podemos inserir quebras de linha com '\\n'\n",
    "frase = 'uma\\nFRASE'\n",
    "print(frase)\n",
    "# Podemos inserir tabulação com '\\t'\n",
    "frase = 'uma\\n\\tFRASE'\n",
    "print(frase)\n",
    "# Para conseguir representar a barra '\\', precisamos de 2 barras:\n",
    "frase = 'uma\\\\FRASE'"
   ]
  }
 ],
 "metadata": {
  "kernelspec": {
   "display_name": "Python 3",
   "language": "python",
   "name": "python3"
  },
  "language_info": {
   "codemirror_mode": {
    "name": "ipython",
    "version": 3
   },
   "file_extension": ".py",
   "mimetype": "text/x-python",
   "name": "python",
   "nbconvert_exporter": "python",
   "pygments_lexer": "ipython3",
   "version": "3.7.4"
  }
 },
 "nbformat": 4,
 "nbformat_minor": 2
}
