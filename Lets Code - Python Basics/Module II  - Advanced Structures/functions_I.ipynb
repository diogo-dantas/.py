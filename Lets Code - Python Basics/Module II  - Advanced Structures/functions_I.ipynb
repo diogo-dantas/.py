{
 "cells": [
  {
   "cell_type": "markdown",
   "metadata": {},
   "source": [
    "###  <em>Lesson 6 - Functions I </em>"
   ]
  },
  {
   "cell_type": "markdown",
   "metadata": {},
   "source": [
    "&nbsp;"
   ]
  },
  {
   "cell_type": "code",
   "execution_count": 25,
   "metadata": {},
   "outputs": [],
   "source": [
    "def hello():\n",
    "    print('Hello world!')"
   ]
  },
  {
   "cell_type": "code",
   "execution_count": 26,
   "metadata": {},
   "outputs": [
    {
     "name": "stdout",
     "output_type": "stream",
     "text": [
      "Hello world!\n"
     ]
    }
   ],
   "source": [
    "hello()"
   ]
  },
  {
   "cell_type": "code",
   "execution_count": 29,
   "metadata": {},
   "outputs": [],
   "source": [
    "def calculate_average(value1, value2, value3):\n",
    "    sum_val = value1 + value2 + value3\n",
    "    avg_val = sum_val / 3\n",
    "    return avg_val"
   ]
  },
  {
   "cell_type": "code",
   "execution_count": 32,
   "metadata": {},
   "outputs": [
    {
     "name": "stdout",
     "output_type": "stream",
     "text": [
      "12.333333333333334\n"
     ]
    }
   ],
   "source": [
    "result = calculate_average(5,10,22)\n",
    "print(result)"
   ]
  },
  {
   "cell_type": "code",
   "execution_count": 34,
   "metadata": {},
   "outputs": [
    {
     "name": "stdout",
     "output_type": "stream",
     "text": [
      "10.0\n"
     ]
    }
   ],
   "source": [
    "result2 = calculate_average(value1 = 10,value2 = 10,value3 = 10)  \n",
    "print(result2)"
   ]
  },
  {
   "cell_type": "code",
   "execution_count": 38,
   "metadata": {},
   "outputs": [
    {
     "name": "stdout",
     "output_type": "stream",
     "text": [
      "Hello, Diogo!\n"
     ]
    }
   ],
   "source": [
    "print('Hello,', end = ' ') #end is a default parameter\n",
    "print('Diogo!')"
   ]
  },
  {
   "cell_type": "code",
   "execution_count": 39,
   "metadata": {},
   "outputs": [],
   "source": [
    "def calculate_average(value1 = 0, value2 = 0, value3 = 0):\n",
    "    sum_val = value1 + value2 + value3\n",
    "    avg_val = sum_val / 3\n",
    "    return avg_val"
   ]
  },
  {
   "cell_type": "code",
   "execution_count": 41,
   "metadata": {},
   "outputs": [
    {
     "name": "stdout",
     "output_type": "stream",
     "text": [
      "0.0\n"
     ]
    }
   ],
   "source": [
    "result3 = calculate_average()\n",
    "print(result3)"
   ]
  },
  {
   "cell_type": "code",
   "execution_count": 42,
   "metadata": {},
   "outputs": [],
   "source": [
    "def calculate_average(value1, value2 = 0, value3 = 0):\n",
    "    sum_val = value1 + value2 + value3\n",
    "    avg_val = sum_val / 3\n",
    "    return avg_val"
   ]
  },
  {
   "cell_type": "code",
   "execution_count": 44,
   "metadata": {},
   "outputs": [
    {
     "name": "stdout",
     "output_type": "stream",
     "text": [
      "0.0\n"
     ]
    }
   ],
   "source": [
    "result3 = calculate_average(value1 = 0)\n",
    "print(result3)"
   ]
  },
  {
   "cell_type": "code",
   "execution_count": 45,
   "metadata": {},
   "outputs": [],
   "source": [
    "def ola(nome):\n",
    "    print(\"Olá\", nome)"
   ]
  },
  {
   "cell_type": "code",
   "execution_count": 46,
   "metadata": {},
   "outputs": [
    {
     "name": "stdout",
     "output_type": "stream",
     "text": [
      "Olá Maria\n",
      "Olá João\n"
     ]
    }
   ],
   "source": [
    "ola(\"Maria\")\n",
    "# Saída: Olá, Maria\n",
    "\n",
    "aluno = \"João\"\n",
    "ola(aluno)\n",
    "# Saída: Olá, João"
   ]
  },
  {
   "cell_type": "code",
   "execution_count": 47,
   "metadata": {},
   "outputs": [
    {
     "name": "stdout",
     "output_type": "stream",
     "text": [
      "Seu nome é José, você tem 30 anos e mora em Maceió.\n"
     ]
    }
   ],
   "source": [
    "def dadosPessoais(nome, idade, cidade):\n",
    "    print(\"Seu nome é {}, você tem {} anos e mora em {}.\".format(nome, idade, cidade))\n",
    "\n",
    "dadosPessoais(\"José\", 30, \"Maceió\")\n",
    "# Saída: Seu nome é José, você tem 30 anos e mora em Maceió."
   ]
  },
  {
   "cell_type": "code",
   "execution_count": 48,
   "metadata": {},
   "outputs": [
    {
     "name": "stdout",
     "output_type": "stream",
     "text": [
      "Seu nome é Ana, você tem 56 anos e mora em Florianópolis.\n"
     ]
    }
   ],
   "source": [
    "dadosPessoais(idade=56, cidade=\"Florianópolis\", nome=\"Ana\")\n",
    "# Saída: Seu nome é Ana, você tem 56 anos e mora em Florianópolis."
   ]
  },
  {
   "cell_type": "code",
   "execution_count": 49,
   "metadata": {},
   "outputs": [
    {
     "name": "stdout",
     "output_type": "stream",
     "text": [
      "A soma dos elementos da lista vale:  15\n",
      "Que soma pequena!\n"
     ]
    },
    {
     "data": {
      "text/plain": [
       "'\\nSaída:\\nA soma dos elementos da lista vale:  15\\nQue soma pequena!\\n'"
      ]
     },
     "execution_count": 49,
     "metadata": {},
     "output_type": "execute_result"
    }
   ],
   "source": [
    "def somatorio(lista):\n",
    "    soma = 0\n",
    "    for item in lista:\n",
    "        soma = soma + item\n",
    "    return soma\n",
    "\n",
    "numeros = [1, 2, 3, 4, 5]\n",
    "soma_dos_numeros = somatorio(numeros)\n",
    "print(\"A soma dos elementos da lista vale: \", soma_dos_numeros)\n",
    "\n",
    "if somatorio(numeros) > 50:\n",
    "    print(\"Que soma grande!\")\n",
    "else:\n",
    "    print(\"Que soma pequena!\")\n",
    "    \n",
    "'''\n",
    "Saída:\n",
    "A soma dos elementos da lista vale:  15\n",
    "Que soma pequena!\n",
    "'''"
   ]
  },
  {
   "cell_type": "code",
   "execution_count": 50,
   "metadata": {
    "scrolled": true
   },
   "outputs": [
    {
     "name": "stdout",
     "output_type": "stream",
     "text": [
      "Testando a função recursiva:\n",
      "1\n",
      "2\n",
      "3\n",
      "4\n",
      "5\n",
      "6\n",
      "7\n",
      "8\n",
      "9\n",
      "10\n"
     ]
    }
   ],
   "source": [
    "def funcaoRecursiva(numero):\n",
    "    if (numero != 1):\n",
    "        funcaoRecursiva(numero - 1)\n",
    "    print(numero)\n",
    "\n",
    "print(\"Testando a função recursiva:\")\n",
    "funcaoRecursiva(10)"
   ]
  }
 ],
 "metadata": {
  "kernelspec": {
   "display_name": "Python 3",
   "language": "python",
   "name": "python3"
  },
  "language_info": {
   "codemirror_mode": {
    "name": "ipython",
    "version": 3
   },
   "file_extension": ".py",
   "mimetype": "text/x-python",
   "name": "python",
   "nbconvert_exporter": "python",
   "pygments_lexer": "ipython3",
   "version": "3.7.4"
  }
 },
 "nbformat": 4,
 "nbformat_minor": 2
}
