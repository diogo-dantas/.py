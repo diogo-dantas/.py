{
 "cells": [
  {
   "cell_type": "markdown",
   "metadata": {
    "ExecuteTime": {
     "end_time": "2021-07-14T17:53:02.794575Z",
     "start_time": "2021-07-14T17:53:02.791639Z"
    }
   },
   "source": [
    "###  <em>Lesson 7 - Functions II </em>"
   ]
  },
  {
   "cell_type": "markdown",
   "metadata": {
    "ExecuteTime": {
     "end_time": "2021-07-14T17:53:32.449495Z",
     "start_time": "2021-07-14T17:53:32.438762Z"
    }
   },
   "source": [
    "&nbsp;"
   ]
  },
  {
   "cell_type": "code",
   "execution_count": 3,
   "metadata": {
    "ExecuteTime": {
     "end_time": "2021-07-14T18:01:50.476759Z",
     "start_time": "2021-07-14T18:01:50.473945Z"
    }
   },
   "outputs": [],
   "source": [
    "def calculate_media(*args):  # * in argument, create a tuple\n",
    "    print(args, type(args))"
   ]
  },
  {
   "cell_type": "code",
   "execution_count": 5,
   "metadata": {
    "ExecuteTime": {
     "end_time": "2021-07-14T18:02:39.460374Z",
     "start_time": "2021-07-14T18:02:39.442313Z"
    }
   },
   "outputs": [
    {
     "name": "stdout",
     "output_type": "stream",
     "text": [
      "(10, 8, 9) <class 'tuple'>\n"
     ]
    }
   ],
   "source": [
    "calculate_media(10, 8, 9)"
   ]
  },
  {
   "cell_type": "code",
   "execution_count": 6,
   "metadata": {
    "ExecuteTime": {
     "end_time": "2021-07-14T18:03:47.403314Z",
     "start_time": "2021-07-14T18:03:47.388213Z"
    }
   },
   "outputs": [],
   "source": [
    "def calculate_media(*args):\n",
    "    result = sum(args) / len(args)\n",
    "    return result"
   ]
  },
  {
   "cell_type": "code",
   "execution_count": 7,
   "metadata": {
    "ExecuteTime": {
     "end_time": "2021-07-14T18:03:53.703173Z",
     "start_time": "2021-07-14T18:03:53.671712Z"
    }
   },
   "outputs": [
    {
     "data": {
      "text/plain": [
       "9.0"
      ]
     },
     "execution_count": 7,
     "metadata": {},
     "output_type": "execute_result"
    }
   ],
   "source": [
    "calculate_media(10, 8, 9)"
   ]
  },
  {
   "cell_type": "code",
   "execution_count": 8,
   "metadata": {
    "ExecuteTime": {
     "end_time": "2021-07-14T18:05:53.984273Z",
     "start_time": "2021-07-14T18:05:53.966185Z"
    }
   },
   "outputs": [],
   "source": [
    "def calculate_media(*args, residue=0.5):\n",
    "    result = sum(args) / len(args)\n",
    "    return result + residue"
   ]
  },
  {
   "cell_type": "code",
   "execution_count": 9,
   "metadata": {
    "ExecuteTime": {
     "end_time": "2021-07-14T18:06:00.788321Z",
     "start_time": "2021-07-14T18:06:00.763241Z"
    }
   },
   "outputs": [
    {
     "data": {
      "text/plain": [
       "9.5"
      ]
     },
     "execution_count": 9,
     "metadata": {},
     "output_type": "execute_result"
    }
   ],
   "source": [
    "calculate_media(10, 8, 9)"
   ]
  },
  {
   "cell_type": "code",
   "execution_count": 10,
   "metadata": {
    "ExecuteTime": {
     "end_time": "2021-07-14T18:09:06.060067Z",
     "start_time": "2021-07-14T18:09:06.056563Z"
    }
   },
   "outputs": [],
   "source": [
    "def print_info(**kwargs):\n",
    "    print(kwargs, type(kwargs))"
   ]
  },
  {
   "cell_type": "code",
   "execution_count": 11,
   "metadata": {
    "ExecuteTime": {
     "end_time": "2021-07-14T18:11:04.267771Z",
     "start_time": "2021-07-14T18:11:04.248314Z"
    }
   },
   "outputs": [
    {
     "name": "stdout",
     "output_type": "stream",
     "text": [
      "{'name': 'Diogo', 'user': 'Dantas'} <class 'dict'>\n"
     ]
    }
   ],
   "source": [
    "print_info(name='Diogo', user='Dantas',)"
   ]
  },
  {
   "cell_type": "code",
   "execution_count": 12,
   "metadata": {
    "ExecuteTime": {
     "end_time": "2021-07-14T18:13:17.301212Z",
     "start_time": "2021-07-14T18:13:17.277404Z"
    }
   },
   "outputs": [
    {
     "name": "stdout",
     "output_type": "stream",
     "text": [
      "O volume é:  100\n"
     ]
    }
   ],
   "source": [
    "def piscina(*infos):\n",
    "    vol = infos[0]*infos[1]*infos[2]\n",
    "    return vol\n",
    "\n",
    "\n",
    "volume = piscina(5, 4, 5)\n",
    "\n",
    "print('O volume é: ', volume)"
   ]
  },
  {
   "cell_type": "code",
   "execution_count": 13,
   "metadata": {
    "ExecuteTime": {
     "end_time": "2021-07-14T18:14:28.820846Z",
     "start_time": "2021-07-14T18:14:28.801828Z"
    }
   },
   "outputs": [
    {
     "name": "stdout",
     "output_type": "stream",
     "text": [
      "O volume é:  100\n"
     ]
    }
   ],
   "source": [
    "def piscina(prof, largura, comprimento):\n",
    "    vol = prof*largura*comprimento\n",
    "    return vol\n",
    "\n",
    "\n",
    "lista = [5, 4, 5]\n",
    "\n",
    "# * On call, it indicates that a collection should be expanded into single items\n",
    "volume = piscina(*lista)\n",
    "\n",
    "print('O volume é: ', volume)"
   ]
  },
  {
   "cell_type": "code",
   "execution_count": 14,
   "metadata": {
    "ExecuteTime": {
     "end_time": "2021-07-14T18:22:49.987512Z",
     "start_time": "2021-07-14T18:22:49.978838Z"
    }
   },
   "outputs": [
    {
     "name": "stdout",
     "output_type": "stream",
     "text": [
      "O volume é:  100\n"
     ]
    }
   ],
   "source": [
    "def piscina(prof, **infos):  # dictionary grouped argument\n",
    "    vol = prof*infos['largura']*infos['comprimento']\n",
    "    return vol\n",
    "\n",
    "\n",
    "volume = piscina(5, largura=4, comprimento=5)\n",
    "\n",
    "print('O volume é: ', volume)"
   ]
  },
  {
   "cell_type": "code",
   "execution_count": 15,
   "metadata": {
    "ExecuteTime": {
     "end_time": "2021-07-14T18:24:42.243819Z",
     "start_time": "2021-07-14T18:24:42.214019Z"
    }
   },
   "outputs": [
    {
     "name": "stdout",
     "output_type": "stream",
     "text": [
      "O volume é:  1000\n"
     ]
    }
   ],
   "source": [
    "def piscina(prof, largura=4, comprimento=5):\n",
    "    vol = prof*largura*comprimento\n",
    "    return vol\n",
    "\n",
    "infos = {'largura': 10, 'comprimento': 20}\n",
    "\n",
    "volume = piscina(5, **infos)\n",
    "\n",
    "print('O volume é: ', volume)"
   ]
  }
 ],
 "metadata": {
  "kernelspec": {
   "display_name": "Python 3",
   "language": "python",
   "name": "python3"
  },
  "language_info": {
   "codemirror_mode": {
    "name": "ipython",
    "version": 3
   },
   "file_extension": ".py",
   "mimetype": "text/x-python",
   "name": "python",
   "nbconvert_exporter": "python",
   "pygments_lexer": "ipython3",
   "version": "3.7.4"
  },
  "toc": {
   "base_numbering": 1,
   "nav_menu": {},
   "number_sections": true,
   "sideBar": true,
   "skip_h1_title": false,
   "title_cell": "Table of Contents",
   "title_sidebar": "Contents",
   "toc_cell": false,
   "toc_position": {},
   "toc_section_display": true,
   "toc_window_display": false
  },
  "varInspector": {
   "cols": {
    "lenName": 16,
    "lenType": 16,
    "lenVar": 40
   },
   "kernels_config": {
    "python": {
     "delete_cmd_postfix": "",
     "delete_cmd_prefix": "del ",
     "library": "var_list.py",
     "varRefreshCmd": "print(var_dic_list())"
    },
    "r": {
     "delete_cmd_postfix": ") ",
     "delete_cmd_prefix": "rm(",
     "library": "var_list.r",
     "varRefreshCmd": "cat(var_dic_list()) "
    }
   },
   "types_to_exclude": [
    "module",
    "function",
    "builtin_function_or_method",
    "instance",
    "_Feature"
   ],
   "window_display": false
  }
 },
 "nbformat": 4,
 "nbformat_minor": 2
}
