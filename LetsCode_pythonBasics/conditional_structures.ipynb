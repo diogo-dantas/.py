{
 "cells": [
  {
   "cell_type": "markdown",
   "metadata": {},
   "source": [
    "###  <em>Lesson 6 - Conditional Structures </em>"
   ]
  },
  {
   "cell_type": "markdown",
   "metadata": {},
   "source": [
    "&nbsp;"
   ]
  },
  {
   "cell_type": "code",
   "execution_count": 19,
   "metadata": {},
   "outputs": [
    {
     "name": "stdout",
     "output_type": "stream",
     "text": [
      "What is the cost of the journey to your destination? 21.40\n",
      "Pay the run!\n"
     ]
    }
   ],
   "source": [
    "ticket_value = 4.30\n",
    "\n",
    "route_value = input(\"What is the cost of the journey to your destination? \")\n",
    "\n",
    "if float(route_value) <= ticket_value * 5:\n",
    "    print(\"Pay the run!\")\n",
    "if float(route_value) > ticket_value * 5:\n",
    "    print(\"Go by bus!\")"
   ]
  },
  {
   "cell_type": "code",
   "execution_count": 21,
   "metadata": {},
   "outputs": [
    {
     "name": "stdout",
     "output_type": "stream",
     "text": [
      "What is the cost of the journey to your destination? 21.40\n",
      "Pay the run!\n"
     ]
    }
   ],
   "source": [
    "ticket_value = 4.30\n",
    "\n",
    "route_value = input(\"What is the cost of the journey to your destination? \")\n",
    "\n",
    "if float(route_value) <= ticket_value * 5:\n",
    "    print(\"Pay the run!\")\n",
    "else:\n",
    "    print(\"Go by bus!\")"
   ]
  },
  {
   "cell_type": "code",
   "execution_count": 26,
   "metadata": {},
   "outputs": [
    {
     "name": "stdout",
     "output_type": "stream",
     "text": [
      "What is the cost of the journey to your destination? 23\n",
      "Wait a moment, the value may decrease.\n"
     ]
    }
   ],
   "source": [
    "ticket_value = 4.30\n",
    "\n",
    "route_value = input(\"What is the cost of the journey to your destination? \")\n",
    "\n",
    "if float(route_value) <= ticket_value * 5:\n",
    "    print(\"Pay the run!\")\n",
    "else:\n",
    "    if float(route_value) <= ticket_value * 6:\n",
    "        print(\"Wait a moment, the value may decrease.\")\n",
    "    else:\n",
    "        print(\"Go by bus!\")"
   ]
  },
  {
   "cell_type": "code",
   "execution_count": 28,
   "metadata": {},
   "outputs": [
    {
     "name": "stdout",
     "output_type": "stream",
     "text": [
      "What is the cost of the journey to your destination? 30\n",
      "Go by bus!\n"
     ]
    }
   ],
   "source": [
    "ticket_value = 4.30\n",
    "\n",
    "route_value = input(\"What is the cost of the journey to your destination? \")\n",
    "\n",
    "if float(route_value) <= ticket_value * 5:\n",
    "    print(\"Pay the run!\")\n",
    "elif float(route_value) <= ticket_value * 6:\n",
    "    print(\"Wait a moment, the value may decrease.\")\n",
    "else:\n",
    "    print(\"Go by bus!\")"
   ]
  },
  {
   "cell_type": "code",
   "execution_count": 29,
   "metadata": {},
   "outputs": [
    {
     "name": "stdout",
     "output_type": "stream",
     "text": [
      "Digite sua idade:33\n",
      "Você pode entrar na montanha russa.\n",
      "Obrigado por participar.\n",
      "Digite sua altura, em metros:168\n",
      "Você pode entrar na montanha russa.\n",
      "Obrigado por participar.\n"
     ]
    }
   ],
   "source": [
    "idade = int(input('Digite sua idade:'))\n",
    "if idade >= 12:\n",
    "    print('Você pode entrar na montanha russa.')\n",
    "print('Obrigado por participar.')\n",
    "\n",
    "altura = float(input('Digite sua altura, em metros:'))\n",
    "if idade >= 12 and altura >= 1.60:\n",
    "    print('Você pode entrar na montanha russa.')\n",
    "print('Obrigado por participar.')"
   ]
  },
  {
   "cell_type": "code",
   "execution_count": 30,
   "metadata": {},
   "outputs": [
    {
     "name": "stdout",
     "output_type": "stream",
     "text": [
      "Digite sua idade:33\n",
      "Digite sua altura, em metros:168\n",
      "Você pode entrar na montanha russa.\n",
      "Obrigado por participar.\n"
     ]
    }
   ],
   "source": [
    "idade = int(input('Digite sua idade:'))\n",
    "altura = float(input('Digite sua altura, em metros:'))\n",
    "if idade >= 12 and altura >= 1.60:\n",
    "    print('Você pode entrar na montanha russa.')\n",
    "else:\n",
    "    print('Você não pode entrar na montanha russa.')\n",
    "print('Obrigado por participar.')"
   ]
  },
  {
   "cell_type": "code",
   "execution_count": 36,
   "metadata": {},
   "outputs": [
    {
     "name": "stdout",
     "output_type": "stream",
     "text": [
      "Digite sua idade:33\n",
      "Você gostaria de entrar nesta montanha russa?Sim\n",
      "Por favor, entre!\n"
     ]
    }
   ],
   "source": [
    "idade = int(input('Digite sua idade:'))\n",
    "if idade >= 12:\n",
    "    resposta = input('Você gostaria de entrar nesta montanha russa?')\n",
    "    if (resposta == 'sim' or 'Sim' or 'SIM'):\n",
    "        print('Por favor, entre!')\n",
    "    else:\n",
    "        print('Ok então')\n",
    "else:\n",
    "    print('Você não tem idade suficiente para entrar nesse brinquedo.')"
   ]
  },
  {
   "cell_type": "code",
   "execution_count": 38,
   "metadata": {},
   "outputs": [
    {
     "name": "stdout",
     "output_type": "stream",
     "text": [
      "Quantos exercícios de Python vc já fez? 32\n",
      "Já está ficando profissional!\n"
     ]
    }
   ],
   "source": [
    "exercicios = int(input('Quantos exercícios de Python vc já fez? '))\n",
    "\n",
    "if exercicios > 30:\n",
    "    print('Já está ficando profissional!')\n",
    "elif exercicios > 20:\n",
    "    print('Tá indo bem, bora fazer mais alguns!')\n",
    "elif exercicios > 10:\n",
    "    print('Vamos tirar o atraso?')\n",
    "else:\n",
    "    print('Xiiii...')"
   ]
  }
 ],
 "metadata": {
  "kernelspec": {
   "display_name": "Python 3",
   "language": "python",
   "name": "python3"
  },
  "language_info": {
   "codemirror_mode": {
    "name": "ipython",
    "version": 3
   },
   "file_extension": ".py",
   "mimetype": "text/x-python",
   "name": "python",
   "nbconvert_exporter": "python",
   "pygments_lexer": "ipython3",
   "version": "3.7.4"
  }
 },
 "nbformat": 4,
 "nbformat_minor": 2
}
