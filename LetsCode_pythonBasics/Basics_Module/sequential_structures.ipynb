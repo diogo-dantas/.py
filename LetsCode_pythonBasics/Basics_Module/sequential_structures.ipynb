{
 "cells": [
  {
   "cell_type": "markdown",
   "metadata": {},
   "source": [
    "###  <em>Lesson 5 - Sequential Structures</em>"
   ]
  },
  {
   "cell_type": "markdown",
   "metadata": {},
   "source": [
    "&nbsp;"
   ]
  },
  {
   "cell_type": "code",
   "execution_count": 3,
   "metadata": {},
   "outputs": [
    {
     "name": "stdout",
     "output_type": "stream",
     "text": [
      "Enter your age: 33\n",
      "33 <class 'str'>\n"
     ]
    }
   ],
   "source": [
    "age = input(\"Enter your age: \")\n",
    "print(age, type(age))"
   ]
  },
  {
   "cell_type": "code",
   "execution_count": 6,
   "metadata": {},
   "outputs": [
    {
     "name": "stdout",
     "output_type": "stream",
     "text": [
      "33 <class 'int'>\n"
     ]
    }
   ],
   "source": [
    "age = int(age)\n",
    "print(age, type(age))"
   ]
  },
  {
   "cell_type": "code",
   "execution_count": 7,
   "metadata": {},
   "outputs": [
    {
     "ename": "ValueError",
     "evalue": "invalid literal for int() with base 10: '123abc'",
     "output_type": "error",
     "traceback": [
      "\u001b[0;31m---------------------------------------------------------------------------\u001b[0m",
      "\u001b[0;31mValueError\u001b[0m                                Traceback (most recent call last)",
      "\u001b[0;32m<ipython-input-7-3f399f3e070c>\u001b[0m in \u001b[0;36m<module>\u001b[0;34m\u001b[0m\n\u001b[0;32m----> 1\u001b[0;31m \u001b[0mint\u001b[0m\u001b[0;34m(\u001b[0m\u001b[0;34m\"123abc\"\u001b[0m\u001b[0;34m)\u001b[0m\u001b[0;34m\u001b[0m\u001b[0;34m\u001b[0m\u001b[0m\n\u001b[0m",
      "\u001b[0;31mValueError\u001b[0m: invalid literal for int() with base 10: '123abc'"
     ]
    }
   ],
   "source": [
    "int(\"123abc\")"
   ]
  },
  {
   "cell_type": "code",
   "execution_count": 10,
   "metadata": {},
   "outputs": [
    {
     "name": "stdout",
     "output_type": "stream",
     "text": [
      "123.45\n",
      "123.45\n",
      "True\n",
      "True\n",
      "False\n",
      "True\n"
     ]
    }
   ],
   "source": [
    "print(float(\"123.45\"))\n",
    "print(str(123.45))\n",
    "print(bool(\" \"))\n",
    "print(bool(\"abc\"))\n",
    "print(bool(0))\n",
    "print(bool(-2))"
   ]
  },
  {
   "cell_type": "code",
   "execution_count": 14,
   "metadata": {},
   "outputs": [
    {
     "name": "stdout",
     "output_type": "stream",
     "text": [
      "Enter the amount of your monthly salary: 2500\n",
      "Enter the amount of your average monthly expense: 1750\n",
      "The amount saved during the year was  9000.0 dollars.\n"
     ]
    }
   ],
   "source": [
    "monthly_salary = input(\"Enter the amount of your monthly salary: \")\n",
    "monthly_salary = float(monthly_salary)\n",
    "\n",
    "monthly_expense = input(\"Enter the amount of your average monthly expense: \")\n",
    "monthly_expense = float(monthly_expense)\n",
    "\n",
    "annual_salary = monthly_salary * 12\n",
    "annual_expense = monthly_expense * 12\n",
    "\n",
    "amount_saved = annual_salary - annual_expense\n",
    "\n",
    "print(\"The amount saved during the year was \", amount_saved, \"dollars.\")"
   ]
  },
  {
   "cell_type": "code",
   "execution_count": 15,
   "metadata": {},
   "outputs": [
    {
     "name": "stdout",
     "output_type": "stream",
     "text": [
      "eu estudo na  Let's Code\n",
      "pi vale 3.14\n",
      "4.140000000000001 9.8596\n"
     ]
    }
   ],
   "source": [
    "y = 3.14 # uma variável do tipo real (float)\n",
    "escola = \"Let's Code\" # uma variável literal (string)\n",
    "\n",
    "# Podemos exibir textos na tela e/ou valores de variáveis com a função print().\n",
    "print('eu estudo na ', escola)\n",
    "print('pi vale', y)\n",
    "\n",
    "# Podemos fazer operações dentro do print:\n",
    "print (y+1, y**2)"
   ]
  },
  {
   "cell_type": "code",
   "execution_count": 16,
   "metadata": {},
   "outputs": [
    {
     "name": "stdout",
     "output_type": "stream",
     "text": [
      "Digite o seu nome: Diogo\n",
      "Digite o seu peso: 72\n",
      "Digite a sua idade: 33\n",
      "Diogo pesa 72.0 kg e tem 33 anos de idade.\n"
     ]
    }
   ],
   "source": [
    "# Podemos ler valores do teclado com a função input().\n",
    "# Ela permite que a gente passe uma mensagem para o usuário.\n",
    "nome = input('Digite o seu nome: ')\n",
    "\n",
    "# Tudo que é lido por input() é considerado uma string (str).\n",
    "# Para tratar como outros tipos de dados é necessário realizar a conversão:\n",
    "peso = float(input('Digite o seu peso: ')) # lê o peso como número real\n",
    "idade = int(input('Digite a sua idade: ')) # lê a idade como número inteiro\n",
    "\n",
    "print(nome, 'pesa', peso, 'kg e tem', idade, 'anos de idade.')"
   ]
  }
 ],
 "metadata": {
  "kernelspec": {
   "display_name": "Python 3",
   "language": "python",
   "name": "python3"
  },
  "language_info": {
   "codemirror_mode": {
    "name": "ipython",
    "version": 3
   },
   "file_extension": ".py",
   "mimetype": "text/x-python",
   "name": "python",
   "nbconvert_exporter": "python",
   "pygments_lexer": "ipython3",
   "version": "3.7.4"
  }
 },
 "nbformat": 4,
 "nbformat_minor": 2
}
