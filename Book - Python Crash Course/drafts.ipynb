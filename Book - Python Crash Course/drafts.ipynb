{
 "cells": [
  {
   "cell_type": "code",
   "execution_count": 1,
   "metadata": {
    "ExecuteTime": {
     "end_time": "2021-07-09T00:52:38.260793Z",
     "start_time": "2021-07-09T00:52:38.256298Z"
    },
    "hide_input": false
   },
   "outputs": [
    {
     "name": "stdout",
     "output_type": "stream",
     "text": [
      "Diogo Dantas\n",
      "diogo dantas\n",
      "DIOGO DANTAS\n"
     ]
    }
   ],
   "source": [
    "name = 'diogo dantas'\n",
    "print(name.title())\n",
    "print(name.lower())\n",
    "print(name.upper())"
   ]
  },
  {
   "cell_type": "code",
   "execution_count": 2,
   "metadata": {
    "ExecuteTime": {
     "end_time": "2021-07-09T00:52:55.441967Z",
     "start_time": "2021-07-09T00:52:55.426992Z"
    }
   },
   "outputs": [
    {
     "name": "stdout",
     "output_type": "stream",
     "text": [
      "Diogo Dantas\n"
     ]
    }
   ],
   "source": [
    "first_name = 'Diogo'\n",
    "last_name = 'Dantas'\n",
    "full_name = f'{first_name} {last_name}'\n",
    "print(full_name)"
   ]
  },
  {
   "cell_type": "code",
   "execution_count": 3,
   "metadata": {
    "ExecuteTime": {
     "end_time": "2021-07-09T00:52:55.850754Z",
     "start_time": "2021-07-09T00:52:55.839163Z"
    }
   },
   "outputs": [
    {
     "name": "stdout",
     "output_type": "stream",
     "text": [
      "Reading and practicing the Python Crash Course, written by Eric Matthes.\n"
     ]
    }
   ],
   "source": [
    "book = 'Python Crash Course'\n",
    "author = 'eric matthes'\n",
    "print(f'Reading and practicing the {book}, written by {author.title()}.')"
   ]
  },
  {
   "cell_type": "code",
   "execution_count": 4,
   "metadata": {
    "ExecuteTime": {
     "end_time": "2021-07-09T00:52:56.471662Z",
     "start_time": "2021-07-09T00:52:56.458516Z"
    }
   },
   "outputs": [
    {
     "name": "stdout",
     "output_type": "stream",
     "text": [
      "Diogo Dantas\n"
     ]
    }
   ],
   "source": [
    "first_name = 'Diogo'\n",
    "last_name = 'Dantas'\n",
    "full_name = '{} {}'.format(first_name,last_name)\n",
    "#If you’re using Python 3.5 or earlier, you’ll need to use the format() method rather than of f syntax.\n",
    "print(full_name)"
   ]
  },
  {
   "cell_type": "code",
   "execution_count": 5,
   "metadata": {
    "ExecuteTime": {
     "end_time": "2021-07-09T00:52:58.808759Z",
     "start_time": "2021-07-09T00:52:58.806059Z"
    }
   },
   "outputs": [
    {
     "name": "stdout",
     "output_type": "stream",
     "text": [
      "Languages:\n",
      "\tPython\n",
      "\tC\n",
      "\tR\n"
     ]
    }
   ],
   "source": [
    "print('Languages:\\n\\tPython\\n\\tC\\n\\tR')"
   ]
  },
  {
   "cell_type": "code",
   "execution_count": 11,
   "metadata": {
    "ExecuteTime": {
     "end_time": "2021-07-09T01:09:18.457549Z",
     "start_time": "2021-07-09T01:09:18.437426Z"
    }
   },
   "outputs": [
    {
     "name": "stdout",
     "output_type": "stream",
     "text": [
      "with_space_left\n",
      "with_space_right\n",
      "space on both sides\n"
     ]
    }
   ],
   "source": [
    "example = '   with_space_left'\n",
    "example2 = 'with_space_right   '\n",
    "example_both = '   space on both sides   '\n",
    "example = example.lstrip()\n",
    "example2 = example2.rstrip()\n",
    "example_both = example_both.strip()\n",
    "print(example)\n",
    "print(example2)\n",
    "print(example_both)\n",
    "# stripping functions are used most often to clean up user input before it’s stored in a program."
   ]
  },
  {
   "cell_type": "code",
   "execution_count": 22,
   "metadata": {
    "ExecuteTime": {
     "end_time": "2021-07-09T01:27:39.143505Z",
     "start_time": "2021-07-09T01:27:36.948500Z"
    }
   },
   "outputs": [
    {
     "name": "stdout",
     "output_type": "stream",
     "text": [
      "Please, say your name: mika\n",
      "Hello Mika, would you like to learn some Python today? \n",
      " MIKA says:\n",
      "\t \"Of course! Learning Python makes many activities easier!\"\n"
     ]
    }
   ],
   "source": [
    "name = input('Please, say your name: ')\n",
    "message = f'Hello {name.title()}, would you like to learn some Python today?'\n",
    "dialogue =f'{name.upper()} says:\\n\\t \"Of course! Learning Python makes many activities easier!\"    '\n",
    "print(message,'\\n',dialogue.strip())"
   ]
  },
  {
   "cell_type": "code",
   "execution_count": 24,
   "metadata": {
    "ExecuteTime": {
     "end_time": "2021-07-09T01:31:54.800829Z",
     "start_time": "2021-07-09T01:31:54.784351Z"
    }
   },
   "outputs": [
    {
     "name": "stdout",
     "output_type": "stream",
     "text": [
      "14000000000\n"
     ]
    }
   ],
   "source": [
    "universe_age = 14_000_000_000\n",
    "print(universe_age)"
   ]
  },
  {
   "cell_type": "code",
   "execution_count": 25,
   "metadata": {
    "ExecuteTime": {
     "end_time": "2021-07-09T01:41:31.551273Z",
     "start_time": "2021-07-09T01:41:31.530587Z"
    }
   },
   "outputs": [
    {
     "name": "stdout",
     "output_type": "stream",
     "text": [
      "0 5 15\n"
     ]
    }
   ],
   "source": [
    "a, b, c = 0, 5, 15\n",
    "print(a, b, c)"
   ]
  },
  {
   "cell_type": "code",
   "execution_count": 26,
   "metadata": {
    "ExecuteTime": {
     "end_time": "2021-07-09T01:43:45.547816Z",
     "start_time": "2021-07-09T01:43:45.529740Z"
    }
   },
   "outputs": [],
   "source": [
    "MAX_CONNECTIONS = 5400\n",
    "#Python programmers use all capital letters to indicate a variable should be treated as a constant and never be changed."
   ]
  },
  {
   "cell_type": "code",
   "execution_count": 27,
   "metadata": {
    "ExecuteTime": {
     "end_time": "2021-07-09T01:59:41.053110Z",
     "start_time": "2021-07-09T01:59:41.049262Z"
    }
   },
   "outputs": [
    {
     "name": "stdout",
     "output_type": "stream",
     "text": [
      "Dfhdu\n"
     ]
    }
   ],
   "source": [
    "sample_list = ['ads', 'bcs', 'dfhdu', 1254, True, 25.634]\n",
    "print(sample_list[2].title())"
   ]
  },
  {
   "cell_type": "code",
   "execution_count": 28,
   "metadata": {
    "ExecuteTime": {
     "end_time": "2021-07-09T02:00:05.018957Z",
     "start_time": "2021-07-09T02:00:05.006850Z"
    }
   },
   "outputs": [
    {
     "data": {
      "text/plain": [
       "['__add__',\n",
       " '__class__',\n",
       " '__contains__',\n",
       " '__delattr__',\n",
       " '__delitem__',\n",
       " '__dir__',\n",
       " '__doc__',\n",
       " '__eq__',\n",
       " '__format__',\n",
       " '__ge__',\n",
       " '__getattribute__',\n",
       " '__getitem__',\n",
       " '__gt__',\n",
       " '__hash__',\n",
       " '__iadd__',\n",
       " '__imul__',\n",
       " '__init__',\n",
       " '__init_subclass__',\n",
       " '__iter__',\n",
       " '__le__',\n",
       " '__len__',\n",
       " '__lt__',\n",
       " '__mul__',\n",
       " '__ne__',\n",
       " '__new__',\n",
       " '__reduce__',\n",
       " '__reduce_ex__',\n",
       " '__repr__',\n",
       " '__reversed__',\n",
       " '__rmul__',\n",
       " '__setattr__',\n",
       " '__setitem__',\n",
       " '__sizeof__',\n",
       " '__str__',\n",
       " '__subclasshook__',\n",
       " 'append',\n",
       " 'clear',\n",
       " 'copy',\n",
       " 'count',\n",
       " 'extend',\n",
       " 'index',\n",
       " 'insert',\n",
       " 'pop',\n",
       " 'remove',\n",
       " 'reverse',\n",
       " 'sort']"
      ]
     },
     "execution_count": 28,
     "metadata": {},
     "output_type": "execute_result"
    }
   ],
   "source": [
    "dir(sample_list)"
   ]
  },
  {
   "cell_type": "code",
   "execution_count": 32,
   "metadata": {
    "ExecuteTime": {
     "end_time": "2021-07-09T02:03:21.260668Z",
     "start_time": "2021-07-09T02:03:21.241345Z"
    }
   },
   "outputs": [
    {
     "name": "stdout",
     "output_type": "stream",
     "text": [
      "['ads', 'bcs', 'dfhdu', 1254, True, 25.634] <class 'list'>\n"
     ]
    }
   ],
   "source": [
    "print(sample_list,type(sample_list))"
   ]
  },
  {
   "cell_type": "code",
   "execution_count": 33,
   "metadata": {
    "ExecuteTime": {
     "end_time": "2021-07-09T02:06:27.308966Z",
     "start_time": "2021-07-09T02:06:27.289935Z"
    }
   },
   "outputs": [
    {
     "name": "stdout",
     "output_type": "stream",
     "text": [
      "My bicycle cost 1254 dollars. \n"
     ]
    }
   ],
   "source": [
    "message = f'My bicycle cost {sample_list[3]} dollars. '\n",
    "print(message)"
   ]
  },
  {
   "cell_type": "code",
   "execution_count": null,
   "metadata": {},
   "outputs": [],
   "source": []
  }
 ],
 "metadata": {
  "kernelspec": {
   "display_name": "Python 3",
   "language": "python",
   "name": "python3"
  },
  "toc": {
   "base_numbering": 1,
   "nav_menu": {},
   "number_sections": true,
   "sideBar": true,
   "skip_h1_title": false,
   "title_cell": "Table of Contents",
   "title_sidebar": "Contents",
   "toc_cell": false,
   "toc_position": {
    "height": "calc(100% - 180px)",
    "left": "10px",
    "top": "150px",
    "width": "263.391px"
   },
   "toc_section_display": true,
   "toc_window_display": true
  },
  "varInspector": {
   "cols": {
    "lenName": 16,
    "lenType": 16,
    "lenVar": 40
   },
   "kernels_config": {
    "python": {
     "delete_cmd_postfix": "",
     "delete_cmd_prefix": "del ",
     "library": "var_list.py",
     "varRefreshCmd": "print(var_dic_list())"
    },
    "r": {
     "delete_cmd_postfix": ") ",
     "delete_cmd_prefix": "rm(",
     "library": "var_list.r",
     "varRefreshCmd": "cat(var_dic_list()) "
    }
   },
   "position": {
    "height": "144px",
    "left": "944px",
    "right": "20px",
    "top": "119px",
    "width": "350px"
   },
   "types_to_exclude": [
    "module",
    "function",
    "builtin_function_or_method",
    "instance",
    "_Feature"
   ],
   "window_display": false
  }
 },
 "nbformat": 4,
 "nbformat_minor": 2
}
