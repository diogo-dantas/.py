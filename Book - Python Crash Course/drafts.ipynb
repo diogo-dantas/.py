{
 "cells": [
  {
   "cell_type": "code",
   "execution_count": 1,
   "metadata": {
    "ExecuteTime": {
     "end_time": "2021-07-09T00:52:38.260793Z",
     "start_time": "2021-07-09T00:52:38.256298Z"
    },
    "hide_input": false
   },
   "outputs": [
    {
     "name": "stdout",
     "output_type": "stream",
     "text": [
      "Diogo Dantas\n",
      "diogo dantas\n",
      "DIOGO DANTAS\n"
     ]
    }
   ],
   "source": [
    "name = 'diogo dantas'\n",
    "print(name.title())\n",
    "print(name.lower())\n",
    "print(name.upper())"
   ]
  },
  {
   "cell_type": "code",
   "execution_count": 2,
   "metadata": {
    "ExecuteTime": {
     "end_time": "2021-07-09T00:52:55.441967Z",
     "start_time": "2021-07-09T00:52:55.426992Z"
    }
   },
   "outputs": [
    {
     "name": "stdout",
     "output_type": "stream",
     "text": [
      "Diogo Dantas\n"
     ]
    }
   ],
   "source": [
    "first_name = 'Diogo'\n",
    "last_name = 'Dantas'\n",
    "full_name = f'{first_name} {last_name}'\n",
    "print(full_name)"
   ]
  },
  {
   "cell_type": "code",
   "execution_count": 3,
   "metadata": {
    "ExecuteTime": {
     "end_time": "2021-07-09T00:52:55.850754Z",
     "start_time": "2021-07-09T00:52:55.839163Z"
    }
   },
   "outputs": [
    {
     "name": "stdout",
     "output_type": "stream",
     "text": [
      "Reading and practicing the Python Crash Course, written by Eric Matthes.\n"
     ]
    }
   ],
   "source": [
    "book = 'Python Crash Course'\n",
    "author = 'eric matthes'\n",
    "print(f'Reading and practicing the {book}, written by {author.title()}.')"
   ]
  },
  {
   "cell_type": "code",
   "execution_count": 4,
   "metadata": {
    "ExecuteTime": {
     "end_time": "2021-07-09T00:52:56.471662Z",
     "start_time": "2021-07-09T00:52:56.458516Z"
    }
   },
   "outputs": [
    {
     "name": "stdout",
     "output_type": "stream",
     "text": [
      "Diogo Dantas\n"
     ]
    }
   ],
   "source": [
    "first_name = 'Diogo'\n",
    "last_name = 'Dantas'\n",
    "full_name = '{} {}'.format(first_name, last_name)\n",
    "# If you’re using Python 3.5 or earlier, you’ll need to use the format() method rather than of f syntax.\n",
    "print(full_name)"
   ]
  },
  {
   "cell_type": "code",
   "execution_count": 5,
   "metadata": {
    "ExecuteTime": {
     "end_time": "2021-07-09T00:52:58.808759Z",
     "start_time": "2021-07-09T00:52:58.806059Z"
    }
   },
   "outputs": [
    {
     "name": "stdout",
     "output_type": "stream",
     "text": [
      "Languages:\n",
      "\tPython\n",
      "\tC\n",
      "\tR\n"
     ]
    }
   ],
   "source": [
    "print('Languages:\\n\\tPython\\n\\tC\\n\\tR')"
   ]
  },
  {
   "cell_type": "code",
   "execution_count": 11,
   "metadata": {
    "ExecuteTime": {
     "end_time": "2021-07-09T01:09:18.457549Z",
     "start_time": "2021-07-09T01:09:18.437426Z"
    }
   },
   "outputs": [
    {
     "name": "stdout",
     "output_type": "stream",
     "text": [
      "with_space_left\n",
      "with_space_right\n",
      "space on both sides\n"
     ]
    }
   ],
   "source": [
    "example = '   with_space_left'\n",
    "example2 = 'with_space_right   '\n",
    "example_both = '   space on both sides   '\n",
    "example = example.lstrip()\n",
    "example2 = example2.rstrip()\n",
    "example_both = example_both.strip()\n",
    "print(example)\n",
    "print(example2)\n",
    "print(example_both)\n",
    "# stripping functions are used most often to clean up user input before it’s stored in a program."
   ]
  },
  {
   "cell_type": "code",
   "execution_count": 22,
   "metadata": {
    "ExecuteTime": {
     "end_time": "2021-07-09T01:27:39.143505Z",
     "start_time": "2021-07-09T01:27:36.948500Z"
    }
   },
   "outputs": [
    {
     "name": "stdout",
     "output_type": "stream",
     "text": [
      "Please, say your name: mika\n",
      "Hello Mika, would you like to learn some Python today? \n",
      " MIKA says:\n",
      "\t \"Of course! Learning Python makes many activities easier!\"\n"
     ]
    }
   ],
   "source": [
    "name = input('Please, say your name: ')\n",
    "message = f'Hello {name.title()}, would you like to learn some Python today?'\n",
    "dialogue = f'{name.upper()} says:\\n\\t \"Of course! Learning Python makes many activities easier!\"    '\n",
    "print(message, '\\n', dialogue.strip())"
   ]
  },
  {
   "cell_type": "code",
   "execution_count": 24,
   "metadata": {
    "ExecuteTime": {
     "end_time": "2021-07-09T01:31:54.800829Z",
     "start_time": "2021-07-09T01:31:54.784351Z"
    }
   },
   "outputs": [
    {
     "name": "stdout",
     "output_type": "stream",
     "text": [
      "14000000000\n"
     ]
    }
   ],
   "source": [
    "universe_age = 14_000_000_000\n",
    "print(universe_age)"
   ]
  },
  {
   "cell_type": "code",
   "execution_count": 25,
   "metadata": {
    "ExecuteTime": {
     "end_time": "2021-07-09T01:41:31.551273Z",
     "start_time": "2021-07-09T01:41:31.530587Z"
    }
   },
   "outputs": [
    {
     "name": "stdout",
     "output_type": "stream",
     "text": [
      "0 5 15\n"
     ]
    }
   ],
   "source": [
    "a, b, c = 0, 5, 15\n",
    "print(a, b, c)"
   ]
  },
  {
   "cell_type": "code",
   "execution_count": 26,
   "metadata": {
    "ExecuteTime": {
     "end_time": "2021-07-09T01:43:45.547816Z",
     "start_time": "2021-07-09T01:43:45.529740Z"
    }
   },
   "outputs": [],
   "source": [
    "MAX_CONNECTIONS = 5400\n",
    "# Python programmers use all capital letters to indicate a variable should be treated as a constant and never be changed."
   ]
  },
  {
   "cell_type": "code",
   "execution_count": 27,
   "metadata": {
    "ExecuteTime": {
     "end_time": "2021-07-09T01:59:41.053110Z",
     "start_time": "2021-07-09T01:59:41.049262Z"
    }
   },
   "outputs": [
    {
     "name": "stdout",
     "output_type": "stream",
     "text": [
      "Dfhdu\n"
     ]
    }
   ],
   "source": [
    "sample_list = ['ads', 'bcs', 'dfhdu', 1254, True, 25.634]\n",
    "print(sample_list[2].title())"
   ]
  },
  {
   "cell_type": "code",
   "execution_count": 28,
   "metadata": {
    "ExecuteTime": {
     "end_time": "2021-07-09T02:00:05.018957Z",
     "start_time": "2021-07-09T02:00:05.006850Z"
    }
   },
   "outputs": [
    {
     "data": {
      "text/plain": [
       "['__add__',\n",
       " '__class__',\n",
       " '__contains__',\n",
       " '__delattr__',\n",
       " '__delitem__',\n",
       " '__dir__',\n",
       " '__doc__',\n",
       " '__eq__',\n",
       " '__format__',\n",
       " '__ge__',\n",
       " '__getattribute__',\n",
       " '__getitem__',\n",
       " '__gt__',\n",
       " '__hash__',\n",
       " '__iadd__',\n",
       " '__imul__',\n",
       " '__init__',\n",
       " '__init_subclass__',\n",
       " '__iter__',\n",
       " '__le__',\n",
       " '__len__',\n",
       " '__lt__',\n",
       " '__mul__',\n",
       " '__ne__',\n",
       " '__new__',\n",
       " '__reduce__',\n",
       " '__reduce_ex__',\n",
       " '__repr__',\n",
       " '__reversed__',\n",
       " '__rmul__',\n",
       " '__setattr__',\n",
       " '__setitem__',\n",
       " '__sizeof__',\n",
       " '__str__',\n",
       " '__subclasshook__',\n",
       " 'append',\n",
       " 'clear',\n",
       " 'copy',\n",
       " 'count',\n",
       " 'extend',\n",
       " 'index',\n",
       " 'insert',\n",
       " 'pop',\n",
       " 'remove',\n",
       " 'reverse',\n",
       " 'sort']"
      ]
     },
     "execution_count": 28,
     "metadata": {},
     "output_type": "execute_result"
    }
   ],
   "source": [
    "dir(sample_list)"
   ]
  },
  {
   "cell_type": "code",
   "execution_count": 32,
   "metadata": {
    "ExecuteTime": {
     "end_time": "2021-07-09T02:03:21.260668Z",
     "start_time": "2021-07-09T02:03:21.241345Z"
    }
   },
   "outputs": [
    {
     "name": "stdout",
     "output_type": "stream",
     "text": [
      "['ads', 'bcs', 'dfhdu', 1254, True, 25.634] <class 'list'>\n"
     ]
    }
   ],
   "source": [
    "print(sample_list, type(sample_list))"
   ]
  },
  {
   "cell_type": "code",
   "execution_count": 33,
   "metadata": {
    "ExecuteTime": {
     "end_time": "2021-07-09T02:06:27.308966Z",
     "start_time": "2021-07-09T02:06:27.289935Z"
    }
   },
   "outputs": [
    {
     "name": "stdout",
     "output_type": "stream",
     "text": [
      "My bicycle cost 1254 dollars. \n"
     ]
    }
   ],
   "source": [
    "message = f'My bicycle cost {sample_list[3]} dollars. '\n",
    "print(message)"
   ]
  },
  {
   "cell_type": "code",
   "execution_count": 78,
   "metadata": {
    "ExecuteTime": {
     "end_time": "2021-07-10T10:02:47.275206Z",
     "start_time": "2021-07-10T10:02:47.267237Z"
    }
   },
   "outputs": [
    {
     "name": "stdout",
     "output_type": "stream",
     "text": [
      "[0, 1, 2, 3, 4, 5, 6, 7, 8, 9]\n"
     ]
    }
   ],
   "source": [
    "empty_list = []\n",
    "count = 0\n",
    "\n",
    "while count < 10:\n",
    "    empty_list.append(count)\n",
    "    count = count + 1\n",
    "\n",
    "print(empty_list)"
   ]
  },
  {
   "cell_type": "code",
   "execution_count": 79,
   "metadata": {
    "ExecuteTime": {
     "end_time": "2021-07-10T10:02:51.234876Z",
     "start_time": "2021-07-10T10:02:51.229430Z"
    },
    "hide_input": false
   },
   "outputs": [
    {
     "name": "stdout",
     "output_type": "stream",
     "text": [
      "[0, 2, 4, 6, 8]\n"
     ]
    }
   ],
   "source": [
    "del empty_list[::-2]\n",
    "print(empty_list)"
   ]
  },
  {
   "cell_type": "code",
   "execution_count": 80,
   "metadata": {
    "ExecuteTime": {
     "end_time": "2021-07-10T10:02:53.927843Z",
     "start_time": "2021-07-10T10:02:53.909080Z"
    }
   },
   "outputs": [
    {
     "name": "stdout",
     "output_type": "stream",
     "text": [
      "0\n"
     ]
    }
   ],
   "source": [
    "zero_element = empty_list.pop(0)\n",
    "print(zero_element)"
   ]
  },
  {
   "cell_type": "code",
   "execution_count": 82,
   "metadata": {
    "ExecuteTime": {
     "end_time": "2021-07-10T10:03:05.607803Z",
     "start_time": "2021-07-10T10:03:05.587417Z"
    }
   },
   "outputs": [
    {
     "name": "stdout",
     "output_type": "stream",
     "text": [
      "[4, 6, 8]\n"
     ]
    }
   ],
   "source": [
    "empty_list.remove(2)  # remove() method delete list item by value.\n",
    "print(empty_list)\n",
    "# The remove() method deletes only the first occurrence of the value you specify.\n",
    "# If there’s a possibility the value appears more than once in the list,\n",
    "# you’ll need to use a loop to make sure all occurrences of the value are removed."
   ]
  },
  {
   "cell_type": "code",
   "execution_count": 94,
   "metadata": {
    "ExecuteTime": {
     "end_time": "2021-07-10T10:27:34.237420Z",
     "start_time": "2021-07-10T10:27:34.198884Z"
    }
   },
   "outputs": [
    {
     "name": "stdout",
     "output_type": "stream",
     "text": [
      "[43, 34, 31, 42, 4, 21, 43, 26, 27, 13, 15, 13]\n",
      "[16, 46, 44, 6, 13, 29, 50, 40, 36, 10, 39, 48]\n"
     ]
    }
   ],
   "source": [
    "from random import choices, sample\n",
    "\n",
    "size = 12\n",
    "values = range(1, 51)\n",
    "\n",
    "random_list = sample(values, size)\n",
    "\n",
    "print(choices(values, k=size))\n",
    "print(random_list)"
   ]
  },
  {
   "cell_type": "code",
   "execution_count": 98,
   "metadata": {
    "ExecuteTime": {
     "end_time": "2021-07-10T10:29:18.896791Z",
     "start_time": "2021-07-10T10:29:18.878920Z"
    }
   },
   "outputs": [
    {
     "name": "stdout",
     "output_type": "stream",
     "text": [
      "[6, 10, 13, 16, 29, 36, 39, 40, 44, 46, 48, 50]\n"
     ]
    }
   ],
   "source": [
    "random_list.sort()\n",
    "print(random_list)"
   ]
  },
  {
   "cell_type": "code",
   "execution_count": 100,
   "metadata": {
    "ExecuteTime": {
     "end_time": "2021-07-10T10:30:04.108149Z",
     "start_time": "2021-07-10T10:30:04.104154Z"
    }
   },
   "outputs": [
    {
     "name": "stdout",
     "output_type": "stream",
     "text": [
      "[50, 48, 46, 44, 40, 39, 36, 29, 16, 13, 10, 6]\n"
     ]
    }
   ],
   "source": [
    "random_list.sort(reverse=True)\n",
    "print(random_list)"
   ]
  },
  {
   "cell_type": "code",
   "execution_count": 101,
   "metadata": {
    "ExecuteTime": {
     "end_time": "2021-07-10T10:33:15.622488Z",
     "start_time": "2021-07-10T10:33:15.618217Z"
    }
   },
   "outputs": [
    {
     "name": "stdout",
     "output_type": "stream",
     "text": [
      "[6, 10, 13, 16, 29, 36, 39, 40, 44, 46, 48, 50]\n"
     ]
    }
   ],
   "source": [
    "random_list.reverse()\n",
    "print(random_list)"
   ]
  },
  {
   "cell_type": "code",
   "execution_count": 103,
   "metadata": {
    "ExecuteTime": {
     "end_time": "2021-07-10T15:34:52.274343Z",
     "start_time": "2021-07-10T15:34:52.267606Z"
    }
   },
   "outputs": [
    {
     "data": {
      "text/plain": [
       "12"
      ]
     },
     "execution_count": 103,
     "metadata": {},
     "output_type": "execute_result"
    }
   ],
   "source": [
    "len(random_list)"
   ]
  },
  {
   "cell_type": "code",
   "execution_count": 107,
   "metadata": {
    "ExecuteTime": {
     "end_time": "2021-07-10T15:36:16.353062Z",
     "start_time": "2021-07-10T15:36:16.340463Z"
    }
   },
   "outputs": [
    {
     "name": "stdout",
     "output_type": "stream",
     "text": [
      "1\n",
      "3\n"
     ]
    }
   ],
   "source": [
    "for values in range(1, 5, 2):  # range(start, stop, step)\n",
    "    print(values)"
   ]
  },
  {
   "cell_type": "code",
   "execution_count": 108,
   "metadata": {
    "ExecuteTime": {
     "end_time": "2021-07-10T15:36:40.036838Z",
     "start_time": "2021-07-10T15:36:40.033365Z"
    }
   },
   "outputs": [
    {
     "name": "stdout",
     "output_type": "stream",
     "text": [
      "1\n",
      "2\n",
      "3\n",
      "4\n"
     ]
    }
   ],
   "source": [
    "for values in range(1, 5):  # range(start, stop)\n",
    "    print(values)"
   ]
  },
  {
   "cell_type": "code",
   "execution_count": 109,
   "metadata": {
    "ExecuteTime": {
     "end_time": "2021-07-10T15:38:10.238041Z",
     "start_time": "2021-07-10T15:38:10.217712Z"
    }
   },
   "outputs": [
    {
     "name": "stdout",
     "output_type": "stream",
     "text": [
      "0\n",
      "1\n",
      "2\n",
      "3\n",
      "4\n"
     ]
    }
   ],
   "source": [
    "for values in range(5):  # range(start, stop)\n",
    "    print(values)"
   ]
  },
  {
   "cell_type": "code",
   "execution_count": 114,
   "metadata": {
    "ExecuteTime": {
     "end_time": "2021-07-13T00:15:22.583108Z",
     "start_time": "2021-07-13T00:15:22.558961Z"
    }
   },
   "outputs": [
    {
     "name": "stdout",
     "output_type": "stream",
     "text": [
      "[0, 2, 4, 6, 8, 10]\n",
      "[1, 3, 5, 7, 9, 11]\n"
     ]
    }
   ],
   "source": [
    "even_list = []\n",
    "odd_list = []\n",
    "for values in range(0, 11, 2):\n",
    "    even_list.append(values)\n",
    "\n",
    "for values in range(1, 12, 2):\n",
    "    odd_list.append(values)\n",
    "\n",
    "print(even_list)\n",
    "print(odd_list)"
   ]
  },
  {
   "cell_type": "code",
   "execution_count": 115,
   "metadata": {
    "ExecuteTime": {
     "end_time": "2021-07-13T00:18:13.628363Z",
     "start_time": "2021-07-13T00:18:13.615476Z"
    }
   },
   "outputs": [
    {
     "name": "stdout",
     "output_type": "stream",
     "text": [
      "[0, 2, 4, 6, 8, 10]\n"
     ]
    }
   ],
   "source": [
    "even_list = [values for values in range(0, 11, 2)]  # list comprehension\n",
    "print(even_list)"
   ]
  },
  {
   "cell_type": "code",
   "execution_count": 116,
   "metadata": {
    "ExecuteTime": {
     "end_time": "2021-07-13T00:18:54.140032Z",
     "start_time": "2021-07-13T00:18:54.120774Z"
    }
   },
   "outputs": [
    {
     "name": "stdout",
     "output_type": "stream",
     "text": [
      "[1, 3, 5, 7, 9, 11]\n"
     ]
    }
   ],
   "source": [
    "odd_list = [values + 1 for values in range(0, 11, 2)]  # list comprehension\n",
    "print(odd_list)"
   ]
  },
  {
   "cell_type": "code",
   "execution_count": 119,
   "metadata": {
    "ExecuteTime": {
     "end_time": "2021-07-13T12:33:48.373442Z",
     "start_time": "2021-07-13T12:33:48.368789Z"
    }
   },
   "outputs": [
    {
     "name": "stdout",
     "output_type": "stream",
     "text": [
      "[0, 1, 2, 3, 4, 5, 6, 7, 8, 9, 10, 11, 12, 13, 14, 15, 16, 17, 18, 19, 20]\n"
     ]
    }
   ],
   "source": [
    "twenty = [values for values in range(0, 21)]\n",
    "print(twenty)"
   ]
  },
  {
   "cell_type": "code",
   "execution_count": 120,
   "metadata": {
    "ExecuteTime": {
     "end_time": "2021-07-13T12:34:02.107535Z",
     "start_time": "2021-07-13T12:34:02.093337Z"
    }
   },
   "outputs": [
    {
     "name": "stdout",
     "output_type": "stream",
     "text": [
      "[0, 1, 2]\n"
     ]
    }
   ],
   "source": [
    "print(twenty[0:3])"
   ]
  },
  {
   "cell_type": "code",
   "execution_count": 124,
   "metadata": {
    "ExecuteTime": {
     "end_time": "2021-07-13T12:34:45.240993Z",
     "start_time": "2021-07-13T12:34:45.222950Z"
    }
   },
   "outputs": [
    {
     "name": "stdout",
     "output_type": "stream",
     "text": [
      "[20, 18, 16, 14, 12, 10, 8, 6, 4, 2, 0]\n"
     ]
    }
   ],
   "source": [
    "print(twenty[-1::-2])"
   ]
  },
  {
   "cell_type": "code",
   "execution_count": 128,
   "metadata": {
    "ExecuteTime": {
     "end_time": "2021-07-13T12:37:01.337487Z",
     "start_time": "2021-07-13T12:37:01.320772Z"
    }
   },
   "outputs": [
    {
     "name": "stdout",
     "output_type": "stream",
     "text": [
      "[20, 19, 18, 17, 16, 15, 14, 13, 12, 11, 10, 9, 8, 7, 6, 5, 4, 3, 2, 1, 0]\n"
     ]
    }
   ],
   "source": [
    "print(twenty[::-1])"
   ]
  },
  {
   "cell_type": "code",
   "execution_count": 137,
   "metadata": {
    "ExecuteTime": {
     "end_time": "2021-07-13T12:39:31.509678Z",
     "start_time": "2021-07-13T12:39:31.505017Z"
    }
   },
   "outputs": [
    {
     "name": "stdout",
     "output_type": "stream",
     "text": [
      "[0, 1, 2]\n"
     ]
    }
   ],
   "source": [
    "print(twenty[:3])"
   ]
  },
  {
   "cell_type": "code",
   "execution_count": 138,
   "metadata": {
    "ExecuteTime": {
     "end_time": "2021-07-13T12:39:59.397114Z",
     "start_time": "2021-07-13T12:39:59.393825Z"
    }
   },
   "outputs": [
    {
     "name": "stdout",
     "output_type": "stream",
     "text": [
      "[3, 4, 5, 6, 7, 8, 9, 10, 11, 12, 13, 14, 15, 16, 17, 18, 19, 20]\n"
     ]
    }
   ],
   "source": [
    "print(twenty[3:])"
   ]
  },
  {
   "cell_type": "code",
   "execution_count": 159,
   "metadata": {
    "ExecuteTime": {
     "end_time": "2021-07-13T13:31:04.334437Z",
     "start_time": "2021-07-13T13:31:04.313832Z"
    }
   },
   "outputs": [
    {
     "name": "stdout",
     "output_type": "stream",
     "text": [
      " My favourites fruits are ['apple', 'grape', 'banana']\n"
     ]
    }
   ],
   "source": [
    "fruits = ['apple', 'grape', 'banana', 'strawberry', 'kiwi', 'watermelon']\n",
    "\n",
    "fav_fruits = [my_fav for my_fav in fruits[:3]]\n",
    "\n",
    "print(f' My favourites fruits are {fav_fruits}')"
   ]
  },
  {
   "cell_type": "code",
   "execution_count": 160,
   "metadata": {
    "ExecuteTime": {
     "end_time": "2021-07-13T13:32:19.812259Z",
     "start_time": "2021-07-13T13:32:19.793705Z"
    }
   },
   "outputs": [
    {
     "name": "stdout",
     "output_type": "stream",
     "text": [
      "My favourites fruits are: \n",
      "Apple\n",
      "Grape\n",
      "Banana\n"
     ]
    }
   ],
   "source": [
    "fruits = ['apple', 'grape', 'banana', 'strawberry', 'kiwi', 'watermelon']\n",
    "print('My favourites fruits are: ')\n",
    "\n",
    "fav_fruits = [print(my_fav.title()) for my_fav in fruits[:3]]"
   ]
  },
  {
   "cell_type": "code",
   "execution_count": 166,
   "metadata": {
    "ExecuteTime": {
     "end_time": "2021-07-13T13:46:24.121762Z",
     "start_time": "2021-07-13T13:46:24.101007Z"
    }
   },
   "outputs": [
    {
     "name": "stdout",
     "output_type": "stream",
     "text": [
      "['apple', 'grape', 'banana', 'strawberry', 'kiwi', 'watermelon', 'lemon'] ['apple', 'grape', 'banana', 'strawberry', 'kiwi', 'watermelon', 'lemon']\n",
      "['apple', 'grape', 'banana', 'strawberry', 'kiwi', 'watermelon', 'lemon', 'lemon'] ['pineapple', 'apple', 'grape', 'banana', 'strawberry', 'kiwi', 'watermelon', 'lemon']\n"
     ]
    }
   ],
   "source": [
    "# copy the entire list\n",
    "copy_fruits = fruits[:]\n",
    "print(fruits, copy_fruits)\n",
    "\n",
    "fruits == copy_fruits\n",
    "\n",
    "# proving that the lists are separate (!= fruits = copy_fruits)\n",
    "fruits.append('lemon')\n",
    "copy_fruits.insert(0, 'pineapple')\n",
    "\n",
    "print(fruits, copy_fruits)"
   ]
  },
  {
   "cell_type": "code",
   "execution_count": 167,
   "metadata": {
    "ExecuteTime": {
     "end_time": "2021-07-13T13:55:01.772063Z",
     "start_time": "2021-07-13T13:55:01.757479Z"
    }
   },
   "outputs": [
    {
     "name": "stdout",
     "output_type": "stream",
     "text": [
      "200\n",
      "50\n"
     ]
    }
   ],
   "source": [
    "dimensions = (200, 50)\n",
    "print(dimensions[0])\n",
    "print(dimensions[1])"
   ]
  },
  {
   "cell_type": "code",
   "execution_count": 168,
   "metadata": {
    "ExecuteTime": {
     "end_time": "2021-07-13T13:58:36.027258Z",
     "start_time": "2021-07-13T13:58:36.024336Z"
    }
   },
   "outputs": [
    {
     "name": "stdout",
     "output_type": "stream",
     "text": [
      "<class 'tuple'>\n"
     ]
    }
   ],
   "source": [
    "# If you want to define a tuple with one element, you need to include a trailing comma.\n",
    "# It doesn’t often make sense to build a tuple with one element,\n",
    "# but this can happen when tuples are generated automatically.\n",
    "\n",
    "t_ = (1,)\n",
    "print(type(t_))"
   ]
  },
  {
   "cell_type": "code",
   "execution_count": 169,
   "metadata": {
    "ExecuteTime": {
     "end_time": "2021-07-13T14:03:18.527942Z",
     "start_time": "2021-07-13T14:03:18.515609Z"
    }
   },
   "outputs": [
    {
     "name": "stdout",
     "output_type": "stream",
     "text": [
      "200\n",
      "50\n"
     ]
    }
   ],
   "source": [
    "for dimension in dimensions:\n",
    "    print(dimension)"
   ]
  },
  {
   "cell_type": "code",
   "execution_count": 171,
   "metadata": {
    "ExecuteTime": {
     "end_time": "2021-07-13T16:56:38.495394Z",
     "start_time": "2021-07-13T16:56:38.477175Z"
    }
   },
   "outputs": [
    {
     "data": {
      "text/plain": [
       "True"
      ]
     },
     "execution_count": 171,
     "metadata": {},
     "output_type": "execute_result"
    }
   ],
   "source": [
    "'grape' in fruits"
   ]
  },
  {
   "cell_type": "code",
   "execution_count": 182,
   "metadata": {
    "ExecuteTime": {
     "end_time": "2021-07-13T17:15:29.500455Z",
     "start_time": "2021-07-13T17:15:24.959221Z"
    }
   },
   "outputs": [
    {
     "name": "stdout",
     "output_type": "stream",
     "text": [
      "Please type your name: Diogo\n",
      "Congrats Diogo, user registered!\n",
      "The system has 5 users.\n"
     ]
    }
   ],
   "source": [
    "users = [\"Mike\", \"Jansen\", 'Davide', 'Karl']\n",
    "test = input('Please type your name: ')\n",
    "\n",
    "if test.title() in users:\n",
    "    print('You are already registered!')\n",
    "else:\n",
    "    users.append(test.title())\n",
    "    print(f'Congrats {test}, user registered!')\n",
    "        \n",
    "print(f'The system has {len(users)} users.')"
   ]
  },
  {
   "cell_type": "code",
   "execution_count": 183,
   "metadata": {
    "ExecuteTime": {
     "end_time": "2021-07-13T17:15:33.537333Z",
     "start_time": "2021-07-13T17:15:33.530432Z"
    }
   },
   "outputs": [
    {
     "name": "stdout",
     "output_type": "stream",
     "text": [
      "['Mike', 'Jansen', 'Davide', 'Karl', 'Diogo']\n"
     ]
    }
   ],
   "source": [
    "print(users)"
   ]
  },
  {
   "cell_type": "code",
   "execution_count": 184,
   "metadata": {
    "ExecuteTime": {
     "end_time": "2021-07-13T17:16:01.335106Z",
     "start_time": "2021-07-13T17:15:55.520415Z"
    }
   },
   "outputs": [
    {
     "name": "stdout",
     "output_type": "stream",
     "text": [
      "Please type your name: jansen\n",
      "You are already registered!\n",
      "The system has 4 users.\n"
     ]
    }
   ],
   "source": [
    "users = [\"Mike\", \"Jansen\", 'Davide', 'Karl']\n",
    "test = input('Please type your name: ')\n",
    "\n",
    "if test.title() in users:\n",
    "    print('You are already registered!')\n",
    "else:\n",
    "    users.append(test.title())\n",
    "    print(f'Congrats {test}, user registered!')\n",
    "        \n",
    "print(f'The system has {len(users)} users.')"
   ]
  },
  {
   "cell_type": "code",
   "execution_count": 222,
   "metadata": {
    "ExecuteTime": {
     "end_time": "2021-07-14T14:14:27.887755Z",
     "start_time": "2021-07-14T14:14:24.854661Z"
    }
   },
   "outputs": [
    {
     "name": "stdout",
     "output_type": "stream",
     "text": [
      "On a scale of 0 to 10, how much have you studied Python? 10\n",
      "Congrats! You're the best!\n"
     ]
    }
   ],
   "source": [
    "scale = input('On a scale of 0 to 10, how much have you studied Python? ')\n",
    "if float(scale) <= 5:\n",
    "    print('Need to practice more, buddy!')\n",
    "elif float(scale) <= 9:\n",
    "    print('Good job!')\n",
    "elif float(scale) == 10:\n",
    "    print(\"Congrats! You're the best!\")\n",
    "else:\n",
    "    print(\"The scale goes up to 10, take it easy on the study!\")"
   ]
  },
  {
   "cell_type": "code",
   "execution_count": 224,
   "metadata": {
    "ExecuteTime": {
     "end_time": "2021-07-14T14:14:51.573985Z",
     "start_time": "2021-07-14T14:14:48.174665Z"
    }
   },
   "outputs": [
    {
     "name": "stdout",
     "output_type": "stream",
     "text": [
      "How old are you? 33\n",
      " You can drive every day.\n",
      " You can swim every day.\n",
      " You can run every day.\n",
      " You can read every day.\n",
      " You can sleep every day.\n",
      "\n",
      " You do a lot of things, man!\n"
     ]
    }
   ],
   "source": [
    "tasks = ['drive', 'swim', 'run', 'read', 'sleep']\n",
    "age = input('How old are you? ')\n",
    "\n",
    "for task in tasks:\n",
    "    if float(age) >= 18:\n",
    "        print(f' You can {task} every day.')\n",
    "    else:\n",
    "        print(f' You can {task} every day.')\n",
    "        if task == 'drive':\n",
    "            print(\"Oh! You can't drive yet, but..\")\n",
    "\n",
    "            \n",
    "print(\"\\n You do a lot of things, man!\")"
   ]
  },
  {
   "cell_type": "code",
   "execution_count": 255,
   "metadata": {
    "ExecuteTime": {
     "end_time": "2021-07-14T14:43:59.401857Z",
     "start_time": "2021-07-14T14:43:54.352982Z"
    },
    "scrolled": true
   },
   "outputs": [
    {
     "name": "stdout",
     "output_type": "stream",
     "text": [
      "How old are you? 25\n",
      " You can drive every day.\n",
      " You can swim every day.\n",
      " You can run every day.\n",
      " You can read every day.\n",
      " You can sleep every day.\n",
      "\n",
      " You do a lot of things, man!\n"
     ]
    }
   ],
   "source": [
    "tasks = ['drive', 'swim', 'run', 'read', 'sleep']\n",
    "age = input('How old are you? ')\n",
    "\n",
    "for task in tasks:\n",
    "    if float(age) >= 18:\n",
    "        print(f' You can {task} every day.')\n",
    "    else:\n",
    "        if task == 'drive':\n",
    "            print(\"Oh! You can't drive yet, but..\")\n",
    "            filtered = filter(lambda tk: tk != 'drive', tasks)\n",
    "            for item in filtered:\n",
    "                print(f' You can {item} every day.')\n",
    "\n",
    "\n",
    "print(\"\\n You do a lot of things, man!\")"
   ]
  },
  {
   "cell_type": "code",
   "execution_count": 262,
   "metadata": {
    "ExecuteTime": {
     "end_time": "2021-07-14T14:45:59.641747Z",
     "start_time": "2021-07-14T14:45:53.924915Z"
    }
   },
   "outputs": [
    {
     "name": "stdout",
     "output_type": "stream",
     "text": [
      "What activity would you like to practice? walk\n",
      "How old are you? 16\n",
      " You can't walk, sorry guy.\n",
      "Oh! You can't drive yet, but..\n",
      " You can swim every day.\n",
      " You can run every day.\n",
      " You can read every day.\n",
      " You can sleep every day.\n",
      "\n",
      " You do a lot of things, man!\n"
     ]
    }
   ],
   "source": [
    "tasks = ['drive', 'swim', 'run', 'read', 'sleep']\n",
    "request = str(input('What activity would you like to practice? '))\n",
    "age = input('How old are you? ')\n",
    "\n",
    "\n",
    "if request.lower() in tasks:\n",
    "    for task in tasks:\n",
    "        if float(age) >= 18:\n",
    "            print(f' You can {task} every day.')\n",
    "        else:\n",
    "            if task == 'drive':\n",
    "                print(\"Oh! You can't drive yet, but..\")\n",
    "                filtered = filter(lambda tk: tk != 'drive', tasks)\n",
    "                for item in filtered:\n",
    "                    print(f' You can {item} every day.')\n",
    "\n",
    "else:\n",
    "    print(f\" You can't {request}, sorry guy.\")\n",
    "    for task in tasks:\n",
    "        if float(age) >= 18:\n",
    "            print(f' You can {task} every day.')\n",
    "        else:\n",
    "            if task == 'drive':\n",
    "                print(\"Oh! You can't drive yet, but..\")\n",
    "                filtered = filter(lambda tk: tk != 'drive', tasks)\n",
    "                for item in filtered:\n",
    "                    print(f' You can {item} every day.')\n",
    "                          \n",
    "print(\"\\n You do a lot of things, man!\")"
   ]
  },
  {
   "cell_type": "code",
   "execution_count": 103,
   "metadata": {
    "ExecuteTime": {
     "end_time": "2021-07-23T01:36:33.499212Z",
     "start_time": "2021-07-23T01:36:33.489421Z"
    }
   },
   "outputs": [],
   "source": [
    "languages = {\n",
    "    'Python': 'Standard',\n",
    "    'C#': 'Optional',\n",
    "    'R': 'Statical Analysis'\n",
    "}"
   ]
  },
  {
   "cell_type": "code",
   "execution_count": 105,
   "metadata": {
    "ExecuteTime": {
     "end_time": "2021-07-23T01:37:06.187931Z",
     "start_time": "2021-07-23T01:37:06.174272Z"
    }
   },
   "outputs": [
    {
     "name": "stdout",
     "output_type": "stream",
     "text": [
      "Sorry, unregistered language.\n"
     ]
    }
   ],
   "source": [
    "has_ruby = languages.get('ruby', 'Sorry, unregistered language.')\n",
    "# searches for keys in the dictionary and presents personalized info if not found.\n",
    "\n",
    "print(has_ruby)"
   ]
  },
  {
   "cell_type": "code",
   "execution_count": 106,
   "metadata": {
    "ExecuteTime": {
     "end_time": "2021-07-23T01:53:58.479744Z",
     "start_time": "2021-07-23T01:53:58.466927Z"
    }
   },
   "outputs": [
    {
     "name": "stdout",
     "output_type": "stream",
     "text": [
      "Standard\n"
     ]
    }
   ],
   "source": [
    "print(languages['Python'])"
   ]
  },
  {
   "cell_type": "code",
   "execution_count": 107,
   "metadata": {
    "ExecuteTime": {
     "end_time": "2021-07-24T16:36:01.052463Z",
     "start_time": "2021-07-24T16:36:01.049701Z"
    }
   },
   "outputs": [],
   "source": [
    "my_friends = {\n",
    "    'Work': 'Alan',\n",
    "    'School': 'David',\n",
    "    'Band': 'Beto',\n",
    "    'Soccer': 'Neymar'\n",
    "}"
   ]
  },
  {
   "cell_type": "code",
   "execution_count": 109,
   "metadata": {
    "ExecuteTime": {
     "end_time": "2021-07-24T16:38:56.274484Z",
     "start_time": "2021-07-24T16:38:56.261461Z"
    }
   },
   "outputs": [
    {
     "name": "stdout",
     "output_type": "stream",
     "text": [
      "I know my friend Alan, from Work.\n",
      "I know my friend David, from School.\n",
      "I know my friend Beto, from Band.\n",
      "I know my friend Neymar, from Soccer.\n"
     ]
    }
   ],
   "source": [
    "for key, value in my_friends.items():  # great hint!\n",
    "    print(f'I know my friend {value}, from {key}.')"
   ]
  },
  {
   "cell_type": "code",
   "execution_count": 114,
   "metadata": {
    "ExecuteTime": {
     "end_time": "2021-07-24T16:51:18.188847Z",
     "start_time": "2021-07-24T16:51:18.175328Z"
    }
   },
   "outputs": [
    {
     "name": "stdout",
     "output_type": "stream",
     "text": [
      "I knew my friends from work.\n",
      "I knew my friends from school.\n",
      "I knew my friends from band.\n",
      "I knew my friends from soccer.\n"
     ]
    }
   ],
   "source": [
    "for site in my_friends.keys():  # note that the method is in the plural, KEYS.\n",
    "    print(f'I knew my friends from {site.lower()}.')"
   ]
  },
  {
   "cell_type": "code",
   "execution_count": 115,
   "metadata": {
    "ExecuteTime": {
     "end_time": "2021-07-24T16:55:00.513532Z",
     "start_time": "2021-07-24T16:55:00.501845Z"
    }
   },
   "outputs": [
    {
     "name": "stdout",
     "output_type": "stream",
     "text": [
      "I knew my friends from work.\n",
      "I knew my friends from school.\n",
      "I knew my friends from band.\n",
      "I knew my friends from soccer.\n"
     ]
    }
   ],
   "source": [
    "for site in my_friends:\n",
    "    print(f'I knew my friends from {site.lower()}.')"
   ]
  },
  {
   "cell_type": "code",
   "execution_count": 119,
   "metadata": {
    "ExecuteTime": {
     "end_time": "2021-07-24T17:06:29.008844Z",
     "start_time": "2021-07-24T17:06:29.001594Z"
    }
   },
   "outputs": [
    {
     "name": "stdout",
     "output_type": "stream",
     "text": [
      "I see Alan every day at work.\n",
      "I see David every day at school.\n",
      "Beto only see in the band.\n",
      "Neymar only see in the soccer.\n"
     ]
    }
   ],
   "source": [
    "frequency = ['work', 'school']\n",
    "\n",
    "for k, v in my_friends.items():\n",
    "    if k.lower() in frequency:\n",
    "        print(f'I see {v.title()} every day at {k.lower()}.')\n",
    "    else:\n",
    "        print(f'{v.title()} only see in the {k.lower()}.')"
   ]
  },
  {
   "cell_type": "code",
   "execution_count": 126,
   "metadata": {
    "ExecuteTime": {
     "end_time": "2021-07-24T17:13:31.987033Z",
     "start_time": "2021-07-24T17:13:31.983448Z"
    }
   },
   "outputs": [
    {
     "name": "stdout",
     "output_type": "stream",
     "text": [
      "I don't have friends who play tennis.\n"
     ]
    }
   ],
   "source": [
    "if 'Tennis' in my_friends:\n",
    "    print('I have friends who play tennis!')\n",
    "else:\n",
    "    print(\"I don't have friends who play tennis.\")"
   ]
  },
  {
   "cell_type": "code",
   "execution_count": 131,
   "metadata": {
    "ExecuteTime": {
     "end_time": "2021-07-24T17:17:21.234132Z",
     "start_time": "2021-07-24T17:17:21.212774Z"
    }
   },
   "outputs": [
    {
     "name": "stdout",
     "output_type": "stream",
     "text": [
      "I have friends who play tennis!\n",
      "\n",
      "Key: WORK\n",
      "\n",
      "Value: Alan\n",
      "\n",
      "Key: SCHOOL\n",
      "\n",
      "Value: David\n",
      "\n",
      "Key: BAND\n",
      "\n",
      "Value: Beto\n",
      "\n",
      "Key: SOCCER\n",
      "\n",
      "Value: Neymar\n",
      "\n",
      "Key: TENNIS\n",
      "\n",
      "Value: Rogerio\n"
     ]
    }
   ],
   "source": [
    "my_friends['Tennis'] = 'Rogerio'\n",
    "\n",
    "if 'Tennis' in my_friends.keys():\n",
    "    print('I have friends who play tennis!')\n",
    "else:\n",
    "    print(\"I don't have friends who play tennis.\")\n",
    "\n",
    "for k, v in my_friends.items():\n",
    "    print(f'\\nKey: {k.upper()}')\n",
    "    print(f'\\nValue: {v.title()}')"
   ]
  },
  {
   "cell_type": "code",
   "execution_count": 132,
   "metadata": {
    "ExecuteTime": {
     "end_time": "2021-07-24T17:20:07.952402Z",
     "start_time": "2021-07-24T17:20:07.934897Z"
    }
   },
   "outputs": [
    {
     "name": "stdout",
     "output_type": "stream",
     "text": [
      "\n",
      "Key: BAND\n",
      "\n",
      "Value: Beto\n",
      "\n",
      "Key: SCHOOL\n",
      "\n",
      "Value: David\n",
      "\n",
      "Key: SOCCER\n",
      "\n",
      "Value: Neymar\n",
      "\n",
      "Key: TENNIS\n",
      "\n",
      "Value: Rogerio\n",
      "\n",
      "Key: WORK\n",
      "\n",
      "Value: Alan\n"
     ]
    }
   ],
   "source": [
    "for k, v in sorted(my_friends.items()): # alphabetical order\n",
    "    print(f'\\nKey: {k.upper()}')\n",
    "    print(f'\\nValue: {v.title()}')"
   ]
  },
  {
   "cell_type": "code",
   "execution_count": 134,
   "metadata": {
    "ExecuteTime": {
     "end_time": "2021-07-24T17:25:32.184927Z",
     "start_time": "2021-07-24T17:25:32.179380Z"
    }
   },
   "outputs": [
    {
     "name": "stdout",
     "output_type": "stream",
     "text": [
      " This is my friend Alan.\n",
      " This is my friend David.\n",
      " This is my friend Beto.\n",
      " This is my friend Neymar.\n",
      " This is my friend Rogerio.\n"
     ]
    }
   ],
   "source": [
    "for v in my_friends.values():  # note that the method is in the plural, VALUES.\n",
    "    print(f' This is my friend {v.title()}.')"
   ]
  },
  {
   "cell_type": "code",
   "execution_count": 140,
   "metadata": {
    "ExecuteTime": {
     "end_time": "2021-07-24T17:31:03.507024Z",
     "start_time": "2021-07-24T17:31:03.494012Z"
    }
   },
   "outputs": [
    {
     "name": "stdout",
     "output_type": "stream",
     "text": [
      " These are my best friends: ['Rogerio', 'Neymar', 'Beto', 'David', 'Alan'].\n"
     ]
    }
   ],
   "source": [
    "all_values = []\n",
    "for v in my_friends.values():\n",
    "    all_values.append(v.title())\n",
    "\n",
    "print(f' These are my best friends: {all_values[::-1]}.')"
   ]
  },
  {
   "cell_type": "code",
   "execution_count": 141,
   "metadata": {
    "ExecuteTime": {
     "end_time": "2021-07-24T17:35:53.570307Z",
     "start_time": "2021-07-24T17:35:53.551102Z"
    }
   },
   "outputs": [
    {
     "name": "stdout",
     "output_type": "stream",
     "text": [
      "\n",
      "\tSite: WORK\n",
      "\n",
      "\tFriend: Alan\n",
      "\n",
      "\tSite: SCHOOL\n",
      "\n",
      "\tFriend: David\n",
      "\n",
      "\tSite: BAND\n",
      "\n",
      "\tFriend: Beto\n",
      "\n",
      "\tSite: SOCCER\n",
      "\n",
      "\tFriend: Neymar\n",
      "\n",
      "\tSite: TENNIS\n",
      "\n",
      "\tFriend: Rogerio\n",
      "\n",
      "\tSite: BASKETBALL\n",
      "\n",
      "\tFriend: David\n",
      "\n",
      "\tSite: CHURCH\n",
      "\n",
      "\tFriend: Alan\n"
     ]
    }
   ],
   "source": [
    "my_friends['Basketball'] = 'David'\n",
    "my_friends['Church'] = 'Alan'\n",
    "\n",
    "for k, v in my_friends.items():\n",
    "    print(f'\\n\\tSite: {k.upper()}')\n",
    "    print(f'\\n\\tFriend: {v.title()}')"
   ]
  },
  {
   "cell_type": "code",
   "execution_count": 144,
   "metadata": {
    "ExecuteTime": {
     "end_time": "2021-07-24T17:36:29.854936Z",
     "start_time": "2021-07-24T17:36:29.845775Z"
    }
   },
   "outputs": [
    {
     "data": {
      "text/plain": [
       "7"
      ]
     },
     "execution_count": 144,
     "metadata": {},
     "output_type": "execute_result"
    }
   ],
   "source": [
    "len(my_friends)"
   ]
  },
  {
   "cell_type": "code",
   "execution_count": 145,
   "metadata": {
    "ExecuteTime": {
     "end_time": "2021-07-24T17:37:10.955659Z",
     "start_time": "2021-07-24T17:37:10.934539Z"
    }
   },
   "outputs": [
    {
     "name": "stdout",
     "output_type": "stream",
     "text": [
      " These are my best friends: ['Alan', 'David', 'Beto', 'Rogerio', 'Neymar'].\n"
     ]
    }
   ],
   "source": [
    "all_values = []\n",
    "for v in set(my_friends.values()):  # SET method doesn't repeat dic values.\n",
    "    all_values.append(v.title())\n",
    "\n",
    "print(f' These are my best friends: {all_values[::-1]}.')"
   ]
  },
  {
   "cell_type": "code",
   "execution_count": 146,
   "metadata": {
    "ExecuteTime": {
     "end_time": "2021-07-24T17:43:51.679388Z",
     "start_time": "2021-07-24T17:43:51.676312Z"
    }
   },
   "outputs": [
    {
     "name": "stdout",
     "output_type": "stream",
     "text": [
      "<class 'set'>\n"
     ]
    }
   ],
   "source": [
    "# This is a SET, not a dictionary.\n",
    "\n",
    "friends = {'Astolfo', 'Reginaldo', 'Claudomiro'}\n",
    "print(type(friends))"
   ]
  },
  {
   "cell_type": "code",
   "execution_count": 147,
   "metadata": {
    "ExecuteTime": {
     "end_time": "2021-07-24T18:14:40.674577Z",
     "start_time": "2021-07-24T18:14:40.669977Z"
    }
   },
   "outputs": [
    {
     "name": "stdout",
     "output_type": "stream",
     "text": [
      "[{101: 'Mauá', 102: 'São Mateus', 103: 'Diadema', 104: 'Ribeirão Pires'}, {201: 'Mauá', 202: 'Pq. São Rafael'}, {301: 'Mauá', 302: 'Pq. São Rafael', 303: 'Santo Amaro', 304: 'Suzano', 305: 'Itaim Paulista'}]\n"
     ]
    }
   ],
   "source": [
    "first_shift = {101: 'Mauá', 102: 'São Mateus',\n",
    "               103: 'Diadema', 104: 'Ribeirão Pires'}\n",
    "second_shift = {201: 'Mauá', 202: 'Pq. São Rafael'}\n",
    "third_shift = {301: 'Mauá', 302: 'Pq. São Rafael',\n",
    "               303: 'Santo Amaro', 304: 'Suzano', 305: 'Itaim Paulista'}\n",
    "\n",
    "six_by_two = [first_shift, second_shift, third_shift]\n",
    "\n",
    "print(six_by_two)"
   ]
  },
  {
   "cell_type": "code",
   "execution_count": 148,
   "metadata": {
    "ExecuteTime": {
     "end_time": "2021-07-24T18:15:57.619859Z",
     "start_time": "2021-07-24T18:15:57.609401Z"
    }
   },
   "outputs": [
    {
     "name": "stdout",
     "output_type": "stream",
     "text": [
      "{101: 'Mauá', 102: 'São Mateus', 103: 'Diadema', 104: 'Ribeirão Pires'}\n",
      "{201: 'Mauá', 202: 'Pq. São Rafael'}\n",
      "{301: 'Mauá', 302: 'Pq. São Rafael', 303: 'Santo Amaro', 304: 'Suzano', 305: 'Itaim Paulista'}\n"
     ]
    }
   ],
   "source": [
    "for shift in six_by_two:\n",
    "    print(shift)"
   ]
  },
  {
   "cell_type": "code",
   "execution_count": 151,
   "metadata": {
    "ExecuteTime": {
     "end_time": "2021-07-24T18:18:36.260511Z",
     "start_time": "2021-07-24T18:18:36.253367Z"
    }
   },
   "outputs": [
    {
     "name": "stdout",
     "output_type": "stream",
     "text": [
      "The number of lines from the third shift is 5.\n"
     ]
    }
   ],
   "source": [
    "size_third = len(six_by_two[2])\n",
    "print(f'The number of lines from the third shift is {size_third}.')"
   ]
  },
  {
   "cell_type": "code",
   "execution_count": 174,
   "metadata": {
    "ExecuteTime": {
     "end_time": "2021-07-24T18:58:17.339098Z",
     "start_time": "2021-07-24T18:58:17.325346Z"
    }
   },
   "outputs": [
    {
     "name": "stdout",
     "output_type": "stream",
     "text": [
      "5\n"
     ]
    }
   ],
   "source": [
    "availables = []   \n",
    "for i in range(5):\n",
    "    internal = {'Line':'Internal Transport'}\n",
    "    availables.append(internal)\n",
    "        \n",
    "print(len(availables))"
   ]
  },
  {
   "cell_type": "code",
   "execution_count": 160,
   "metadata": {
    "ExecuteTime": {
     "end_time": "2021-07-24T18:34:17.714766Z",
     "start_time": "2021-07-24T18:34:17.711820Z"
    }
   },
   "outputs": [
    {
     "name": "stdout",
     "output_type": "stream",
     "text": [
      "{'Line': 'Internal Transport'}\n",
      "{'Line': 'Internal Transport'}\n",
      "{'Line': 'Internal Transport'}\n"
     ]
    }
   ],
   "source": [
    "for i in availables[:3]:\n",
    "    print(i)"
   ]
  },
  {
   "cell_type": "code",
   "execution_count": 177,
   "metadata": {
    "ExecuteTime": {
     "end_time": "2021-07-24T19:58:40.774742Z",
     "start_time": "2021-07-24T19:58:40.763159Z"
    }
   },
   "outputs": [],
   "source": [
    "first_shift['101'] = {\n",
    "    'Route':'Mauá',\n",
    "    'KM': 52,\n",
    "    'Driver':'João',\n",
    "    'Occupation(%)':75,\n",
    "}"
   ]
  },
  {
   "cell_type": "code",
   "execution_count": 178,
   "metadata": {
    "ExecuteTime": {
     "end_time": "2021-07-24T19:58:55.580273Z",
     "start_time": "2021-07-24T19:58:55.571186Z"
    }
   },
   "outputs": [
    {
     "name": "stdout",
     "output_type": "stream",
     "text": [
      "{101: 'Mauá', 102: 'São Mateus', 103: 'Diadema', 104: 'Ribeirão Pires', '101': {'Route': 'Mauá', 'KM': 52, 'Driver': 'João', 'Occupation(%)': 75}}\n"
     ]
    }
   ],
   "source": [
    "print(first_shift)"
   ]
  },
  {
   "cell_type": "code",
   "execution_count": 181,
   "metadata": {
    "ExecuteTime": {
     "end_time": "2021-07-24T20:00:06.381793Z",
     "start_time": "2021-07-24T20:00:06.365815Z"
    }
   },
   "outputs": [
    {
     "data": {
      "text/plain": [
       "{'Route': 'Mauá', 'KM': 52, 'Driver': 'João', 'Occupation(%)': 75}"
      ]
     },
     "execution_count": 181,
     "metadata": {},
     "output_type": "execute_result"
    }
   ],
   "source": [
    "first_shift.pop('101')"
   ]
  },
  {
   "cell_type": "code",
   "execution_count": 182,
   "metadata": {
    "ExecuteTime": {
     "end_time": "2021-07-24T20:00:18.695593Z",
     "start_time": "2021-07-24T20:00:18.676112Z"
    }
   },
   "outputs": [
    {
     "data": {
      "text/plain": [
       "{101: 'Mauá', 102: 'São Mateus', 103: 'Diadema', 104: 'Ribeirão Pires'}"
      ]
     },
     "execution_count": 182,
     "metadata": {},
     "output_type": "execute_result"
    }
   ],
   "source": [
    "first_shift"
   ]
  },
  {
   "cell_type": "code",
   "execution_count": 185,
   "metadata": {
    "ExecuteTime": {
     "end_time": "2021-07-24T20:03:29.069794Z",
     "start_time": "2021-07-24T20:03:29.063377Z"
    }
   },
   "outputs": [],
   "source": [
    "first_shift[101] = {\n",
    "    'Route': 'Mauá',\n",
    "    'KM': 52,\n",
    "    'Driver': 'João',\n",
    "    'Occupation(%)': 75,\n",
    "}\n",
    "first_shift[102] = {\n",
    "    'Route': 'São Mateus',\n",
    "    'KM': 42,\n",
    "    'Driver': 'Otavio',\n",
    "    'Occupation(%)': 53,\n",
    "}\n",
    "first_shift[103] = {\n",
    "    'Route': 'Diadema',\n",
    "    'KM': 31,\n",
    "    'Driver': 'Leonardo',\n",
    "    'Occupation(%)': 25,\n",
    "}\n",
    "first_shift[104] = {\n",
    "    'Route': 'Ribeirão Pires',\n",
    "    'KM': 56,\n",
    "    'Driver': 'Chico Grilo',\n",
    "    'Occupation(%)': 17,\n",
    "}"
   ]
  },
  {
   "cell_type": "code",
   "execution_count": 186,
   "metadata": {
    "ExecuteTime": {
     "end_time": "2021-07-24T20:03:30.260366Z",
     "start_time": "2021-07-24T20:03:30.252840Z"
    }
   },
   "outputs": [
    {
     "name": "stdout",
     "output_type": "stream",
     "text": [
      "{101: {'Route': 'Mauá', 'KM': 52, 'Driver': 'João', 'Occupation(%)': 75}, 102: {'Route': 'São Mateus', 'KM': 42, 'Driver': 'Otavio', 'Occupation(%)': 53}, 103: {'Route': 'Diadema', 'KM': 31, 'Driver': 'Leonardo', 'Occupation(%)': 25}, 104: {'Route': 'Ribeirão Pires', 'KM': 56, 'Driver': 'Chico Grilo', 'Occupation(%)': 17}}\n"
     ]
    }
   ],
   "source": [
    "print(first_shift)"
   ]
  },
  {
   "cell_type": "code",
   "execution_count": 190,
   "metadata": {
    "ExecuteTime": {
     "end_time": "2021-07-24T20:13:28.161881Z",
     "start_time": "2021-07-24T20:13:28.151590Z"
    }
   },
   "outputs": [
    {
     "data": {
      "text/plain": [
       "dict"
      ]
     },
     "execution_count": 190,
     "metadata": {},
     "output_type": "execute_result"
    }
   ],
   "source": [
    "type(first_shift)"
   ]
  },
  {
   "cell_type": "code",
   "execution_count": 191,
   "metadata": {
    "ExecuteTime": {
     "end_time": "2021-07-24T20:16:58.825614Z",
     "start_time": "2021-07-24T20:16:58.819550Z"
    }
   },
   "outputs": [
    {
     "name": "stdout",
     "output_type": "stream",
     "text": [
      "{'Route': 'Mauá', 'KM': 52, 'Driver': ['João', 'Alessandro'], 'Occupation(%)': 75}\n"
     ]
    }
   ],
   "source": [
    "first_shift[101]['Driver'] = ['João','Alessandro']\n",
    "print(first_shift[101])"
   ]
  },
  {
   "cell_type": "code",
   "execution_count": 200,
   "metadata": {
    "ExecuteTime": {
     "end_time": "2021-07-24T20:23:34.569026Z",
     "start_time": "2021-07-24T20:23:34.555923Z"
    }
   },
   "outputs": [
    {
     "name": "stdout",
     "output_type": "stream",
     "text": [
      "You're official driver is João.\n"
     ]
    }
   ],
   "source": [
    "print(f\"You're official driver is {first_shift[101]['Driver'][0]}.\")"
   ]
  },
  {
   "cell_type": "code",
   "execution_count": 212,
   "metadata": {
    "ExecuteTime": {
     "end_time": "2021-07-24T20:51:52.361942Z",
     "start_time": "2021-07-24T20:51:52.340367Z"
    }
   },
   "outputs": [
    {
     "name": "stdout",
     "output_type": "stream",
     "text": [
      "The drivers are:\n",
      "João\n",
      "Alessandro\n"
     ]
    }
   ],
   "source": [
    "for line, desc in first_shift.items():\n",
    "    if float(line) == 101:\n",
    "        print('The drivers are:')\n",
    "        for i in desc['Driver']:\n",
    "            print(i)"
   ]
  },
  {
   "cell_type": "code",
   "execution_count": 221,
   "metadata": {
    "ExecuteTime": {
     "end_time": "2021-07-25T00:21:22.559735Z",
     "start_time": "2021-07-25T00:21:20.930367Z"
    }
   },
   "outputs": [
    {
     "name": "stdout",
     "output_type": "stream",
     "text": [
      "This a exaaaaaaaaaaaaaaaaaaaaaaaaaaaaaaaaaaaaaaaaaaaaaaaaaaaampleeeeeeeeeeeeeeeeeeee to use a big phrase in an input() method.\n",
      "Did you understand? (Y / N) y\n",
      "\n",
      "Good job!\n"
     ]
    }
   ],
   "source": [
    "prompt = 'This a exaaaaaaaaaaaaaaaaaaaaaaaaaaaaaaaaaaaaaaaaaaaaaaaaaaaampleeeeeeeeeeeeeeeeeeee'\n",
    "prompt+= ' to use a big phrase in an input() method.\\nDid you understand? (Y / N) '\n",
    "ask = input(prompt)\n",
    "if ask.upper() == 'Y':\n",
    "    print('\\nGood job!')\n",
    "else:\n",
    "    print('\\nReally?!')"
   ]
  },
  {
   "cell_type": "code",
   "execution_count": 225,
   "metadata": {
    "ExecuteTime": {
     "end_time": "2021-07-25T00:32:21.305782Z",
     "start_time": "2021-07-25T00:32:15.154626Z"
    }
   },
   "outputs": [
    {
     "name": "stdout",
     "output_type": "stream",
     "text": [
      "\n",
      "Tell me something, and I will repeat it back to you:\n",
      "Enter 'quit' to end the program. ok\n",
      "\n",
      "Tell me something, and I will repeat it back to you:\n",
      "Enter 'quit' to end the program. end\n",
      "\n",
      "Tell me something, and I will repeat it back to you:\n",
      "Enter 'quit' to end the program. QUIT\n",
      "Goodbye!\n"
     ]
    }
   ],
   "source": [
    "prompt = \"\\nTell me something, and I will repeat it back to you:\"\n",
    "prompt += \"\\nEnter 'quit' to end the program. \"\n",
    "\n",
    "message = ''\n",
    "while message.lower() != 'quit':\n",
    "    message = input(prompt)\n",
    "    \n",
    "print('Goodbye!')"
   ]
  },
  {
   "cell_type": "code",
   "execution_count": 226,
   "metadata": {
    "ExecuteTime": {
     "end_time": "2021-07-25T00:46:48.652704Z",
     "start_time": "2021-07-25T00:46:07.761916Z"
    }
   },
   "outputs": [
    {
     "name": "stdout",
     "output_type": "stream",
     "text": [
      "\n",
      "Tell me something, and I will repeat it back to you:\n",
      "Enter 'quit' to end the program. Let's do that!\n",
      "Let's do that!\n",
      "\n",
      "Tell me something, and I will repeat it back to you:\n",
      "Enter 'quit' to end the program. Try again\n",
      "Try again\n",
      "\n",
      "Tell me something, and I will repeat it back to you:\n",
      "Enter 'quit' to end the program. Quit\n"
     ]
    }
   ],
   "source": [
    "active = True    # flag with a function while\n",
    "while active:\n",
    "    message = input(prompt)\n",
    "\n",
    "    if message.lower() == 'quit':\n",
    "        active = False\n",
    "    else:\n",
    "        print(message)"
   ]
  },
  {
   "cell_type": "code",
   "execution_count": 227,
   "metadata": {
    "ExecuteTime": {
     "end_time": "2021-07-25T14:01:22.575544Z",
     "start_time": "2021-07-25T14:01:22.570454Z"
    }
   },
   "outputs": [
    {
     "name": "stdout",
     "output_type": "stream",
     "text": [
      "Verifying user: Eduardo\n",
      "Verifying user: Fabiola\n",
      "Verifying user: Beatriz\n",
      "Verifying user: Flavia\n",
      "Verifying user: Italo\n",
      "\n",
      "The following users have been confirmed:\n",
      "Eduardo\n",
      "Fabiola\n",
      "Beatriz\n",
      "Flavia\n",
      "Italo\n"
     ]
    }
   ],
   "source": [
    "unconfirmed_users = ['Italo','Flavia','Beatriz','Fabiola','Eduardo']\n",
    "confirmed_users = []\n",
    "\n",
    "while unconfirmed_users:\n",
    "    current_user = unconfirmed_users.pop()\n",
    "    \n",
    "    print(f'Verifying user: {current_user.title()}')\n",
    "    confirmed_users.append(current_user)\n",
    "\n",
    "print(\"\\nThe following users have been confirmed:\")\n",
    "for confirmed_user in confirmed_users:\n",
    "    print(confirmed_user.title())"
   ]
  },
  {
   "cell_type": "code",
   "execution_count": 228,
   "metadata": {
    "ExecuteTime": {
     "end_time": "2021-07-25T14:18:22.474118Z",
     "start_time": "2021-07-25T14:18:22.462429Z"
    }
   },
   "outputs": [
    {
     "name": "stdout",
     "output_type": "stream",
     "text": [
      "['Italy', 'Germany', 'Polska']\n"
     ]
    }
   ],
   "source": [
    "countries = ['Brazil', 'Brazil', 'Brazil', 'Brazil',\n",
    "             'Italy', 'Brazil', 'Germany', 'Polska']\n",
    "\n",
    "while 'Brazil' in countries:\n",
    "    countries.remove('Brazil')\n",
    "\n",
    "print(countries)"
   ]
  },
  {
   "cell_type": "code",
   "execution_count": null,
   "metadata": {},
   "outputs": [],
   "source": []
  },
  {
   "cell_type": "code",
   "execution_count": null,
   "metadata": {},
   "outputs": [],
   "source": []
  }
 ],
 "metadata": {
  "kernelspec": {
   "display_name": "Python 3",
   "language": "python",
   "name": "python3"
  },
  "language_info": {
   "codemirror_mode": {
    "name": "ipython",
    "version": 3
   },
   "file_extension": ".py",
   "mimetype": "text/x-python",
   "name": "python",
   "nbconvert_exporter": "python",
   "pygments_lexer": "ipython3",
   "version": "3.7.4"
  },
  "toc": {
   "base_numbering": 1,
   "nav_menu": {},
   "number_sections": true,
   "sideBar": true,
   "skip_h1_title": false,
   "title_cell": "Table of Contents",
   "title_sidebar": "Contents",
   "toc_cell": false,
   "toc_position": {
    "height": "calc(100% - 180px)",
    "left": "10px",
    "top": "150px",
    "width": "263.391px"
   },
   "toc_section_display": true,
   "toc_window_display": true
  },
  "varInspector": {
   "cols": {
    "lenName": 16,
    "lenType": 16,
    "lenVar": 40
   },
   "kernels_config": {
    "python": {
     "delete_cmd_postfix": "",
     "delete_cmd_prefix": "del ",
     "library": "var_list.py",
     "varRefreshCmd": "print(var_dic_list())"
    },
    "r": {
     "delete_cmd_postfix": ") ",
     "delete_cmd_prefix": "rm(",
     "library": "var_list.r",
     "varRefreshCmd": "cat(var_dic_list()) "
    }
   },
   "position": {
    "height": "144px",
    "left": "946px",
    "right": "20px",
    "top": "119px",
    "width": "350px"
   },
   "types_to_exclude": [
    "module",
    "function",
    "builtin_function_or_method",
    "instance",
    "_Feature"
   ],
   "window_display": false
  }
 },
 "nbformat": 4,
 "nbformat_minor": 2
}
