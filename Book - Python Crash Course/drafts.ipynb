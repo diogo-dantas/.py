{
 "cells": [
  {
   "cell_type": "markdown",
   "metadata": {},
   "source": [
    "### <em> Strings </em>"
   ]
  },
  {
   "cell_type": "code",
   "execution_count": 1,
   "metadata": {},
   "outputs": [
    {
     "name": "stdout",
     "output_type": "stream",
     "text": [
      "Diogo Dantas\n",
      "diogo dantas\n",
      "DIOGO DANTAS\n"
     ]
    }
   ],
   "source": [
    "name = 'diogo dantas'\n",
    "print(name.title())\n",
    "print(name.lower())\n",
    "print(name.upper())"
   ]
  },
  {
   "cell_type": "code",
   "execution_count": 3,
   "metadata": {},
   "outputs": [
    {
     "name": "stdout",
     "output_type": "stream",
     "text": [
      "Diogo Dantas\n"
     ]
    }
   ],
   "source": [
    "first_name = 'Diogo'\n",
    "last_name = 'Dantas'\n",
    "full_name = f'{first_name} {last_name}'\n",
    "print(full_name)"
   ]
  },
  {
   "cell_type": "code",
   "execution_count": 6,
   "metadata": {},
   "outputs": [
    {
     "name": "stdout",
     "output_type": "stream",
     "text": [
      "Reading and practicing the Python Crash Course, written by Eric Matthes.\n"
     ]
    }
   ],
   "source": [
    "book = 'Python Crash Course'\n",
    "author = 'eric matthes'\n",
    "print(f'Reading and practicing the {book}, written by {author.title()}.')"
   ]
  },
  {
   "cell_type": "code",
   "execution_count": 8,
   "metadata": {},
   "outputs": [
    {
     "name": "stdout",
     "output_type": "stream",
     "text": [
      "Diogo Dantas\n"
     ]
    }
   ],
   "source": [
    "first_name = 'Diogo'\n",
    "last_name = 'Dantas'\n",
    "full_name = '{} {}'.format(first_name,last_name)\n",
    "#If you’re using Python 3.5 or earlier, you’ll need to use the format() method rather than of f syntax.\n",
    "print(full_name)"
   ]
  }
 ],
 "metadata": {
  "kernelspec": {
   "display_name": "Python 3",
   "language": "python",
   "name": "python3"
  },
  "language_info": {
   "codemirror_mode": {
    "name": "ipython",
    "version": 3
   },
   "file_extension": ".py",
   "mimetype": "text/x-python",
   "name": "python",
   "nbconvert_exporter": "python",
   "pygments_lexer": "ipython3",
   "version": "3.7.4"
  }
 },
 "nbformat": 4,
 "nbformat_minor": 2
}
